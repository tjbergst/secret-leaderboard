{
 "cells": [
  {
   "cell_type": "markdown",
   "metadata": {},
   "source": [
    "# art contest leaderboard scrape"
   ]
  },
  {
   "cell_type": "markdown",
   "metadata": {},
   "source": [
    "## setup"
   ]
  },
  {
   "cell_type": "code",
   "execution_count": 1,
   "metadata": {},
   "outputs": [],
   "source": [
    "from bs4 import BeautifulSoup\n",
    "import requests\n",
    "import re\n",
    "\n",
    "import pandas as pd\n",
    "import numpy as np\n",
    "import time\n",
    "\n",
    "import altair as alt\n",
    "from IPython.display import display"
   ]
  },
  {
   "cell_type": "code",
   "execution_count": null,
   "metadata": {},
   "outputs": [],
   "source": []
  },
  {
   "cell_type": "markdown",
   "metadata": {},
   "source": [
    "## `ArtContestScraper`"
   ]
  },
  {
   "cell_type": "code",
   "execution_count": 2,
   "metadata": {},
   "outputs": [],
   "source": [
    "class ArtContestScraper:\n",
    "    def __init__(self):\n",
    "        # attributes\n",
    "        self.submissions_url = lambda page: f'https://nouveaulabelcontest.com/submissions/page/{page}/'\n",
    "        self.data_dict_list = []\n",
    "        \n",
    "    \n",
    "    def randomly_sleep(self):\n",
    "        time.sleep(np.random.randint(0, 10))\n",
    "    \n",
    "    def create_entry_list(self, soup):\n",
    "        entry_list = list(set([\n",
    "            item for sublist in\n",
    "            [\n",
    "                item.find_all_previous(\n",
    "                    'a', \n",
    "                    href=re.compile(r'https://nouveaulabelcontest.com/[a-z-0-9]+/#(comments|respond)')\n",
    "                )\n",
    "                for item in soup.find_all('a', attrs={'class':'more-link style2-button'})\n",
    "            ]\n",
    "            for item in sublist\n",
    "        ]))\n",
    "        \n",
    "        entry_list.sort(key=lambda x: str(x)) \n",
    "        #print(f'entry list entry count: {len(entry_list)}')\n",
    "        \n",
    "        return entry_list\n",
    "    \n",
    "    def create_data_dict(self, soup):\n",
    "        # get entry list\n",
    "        entry_list = self.create_entry_list(soup)\n",
    "        \n",
    "        # build data dict\n",
    "        data_dict = {\n",
    "            # key\n",
    "            re.findall(\n",
    "                r'https://nouveaulabelcontest.com/([a-z-0-9]+)/',\n",
    "                entry.attrs['href']\n",
    "            )[0]: {\n",
    "                \n",
    "                # metadata subdict        \n",
    "                'link': re.findall(\n",
    "                    r'https://nouveaulabelcontest.com/[a-z-0-9]+/',\n",
    "                    entry.attrs['href']\n",
    "                )[0],\n",
    "                \n",
    "                'comments': re.findall(\n",
    "                    r'(\\d+)\\s+comments', \n",
    "                    entry.get_text()\n",
    "                )[0],\n",
    "                \n",
    "                'artist': '',\n",
    "                'title': ''\n",
    "            }\n",
    "            for entry in entry_list\n",
    "        }\n",
    "        \n",
    "        #print(f'data dict entry count: {len(data_dict.keys())}')\n",
    "        assert len(entry_list) == len(data_dict.keys()), 'entry count mismatch'\n",
    "        \n",
    "        return data_dict    \n",
    "    \n",
    "    def get_page_data(self, url):\n",
    "        # get page\n",
    "        r = requests.get(url)\n",
    "        print(f'\\tstatus: {r.status_code}')\n",
    "        \n",
    "        # soupify\n",
    "        soup = BeautifulSoup(r.content, 'lxml')    \n",
    "        \n",
    "        # build data dict\n",
    "        return self.create_data_dict(soup)\n",
    "    \n",
    "    \n",
    "    def get_entry_details(self, data_dict, key, link):\n",
    "        r = requests.get(link)\n",
    "        #print(f'status: {r.status_code}')\n",
    "    \n",
    "        soup = BeautifulSoup(r.content, 'lxml')\n",
    "        \n",
    "        # get entry metadata\n",
    "        entry_meta = soup.find_all('h4')\n",
    "        \n",
    "        # store in data dict\n",
    "        try:\n",
    "            data_dict[key]['artist'] = re.findall(r'Artist: ([A-Za-z ]+)', entry_meta[0].get_text())[0]\n",
    "        except IndexError:\n",
    "            data_dict[key]['artist'] = 'not found'\n",
    "            \n",
    "        try:\n",
    "            data_dict[key]['title'] = re.findall(r'Title: ([A-Za-z ]+)', entry_meta[1].get_text())[0]\n",
    "        except IndexError:\n",
    "            data_dict[key]['title'] = 'not found'\n",
    "                \n",
    "        return data_dict\n",
    "    \n",
    "    def get_all_entry_details(self, data_dict):\n",
    "        for key, subdict in data_dict.items():\n",
    "            self.randomly_sleep()\n",
    "            #print(f'getting details for {key}')\n",
    "            \n",
    "            data_dict = self.get_entry_details(data_dict, key, subdict['link'])\n",
    "        \n",
    "        print(f'\\tgot entry details for {len(data_dict.keys())} items')\n",
    "        return data_dict\n",
    "    \n",
    "    def page_has_data(self, url):\n",
    "        r = requests.get(url)\n",
    "        soup = BeautifulSoup(r.content, 'lxml')\n",
    "        \n",
    "        if len(soup.find_all('a', attrs={'class':'more-link style2-button'})) > 0:\n",
    "            return True\n",
    "        return False\n",
    "    \n",
    "    def process_data_dict_list(self):\n",
    "        # convert to records\n",
    "        data_records = [\n",
    "            {\n",
    "                'key': key,\n",
    "                'link': subdict['link'],\n",
    "                'title': subdict['title'],\n",
    "                'artist': subdict['artist'],\n",
    "                'comments': subdict['comments']\n",
    "            }\n",
    "            for data in self.data_dict_list\n",
    "            for key, subdict in data.items()    \n",
    "        ]\n",
    "        \n",
    "        # load dataframe\n",
    "        self.alt_df = (\n",
    "            pd\n",
    "            .DataFrame(data_records)\n",
    "            .assign(\n",
    "                # set dtype\n",
    "                comments = lambda x: x.comments.astype('int'),\n",
    "                \n",
    "                # mark target\n",
    "                dummy = lambda x: [\n",
    "                    'deep-green' \n",
    "                        if artist == 'Reuf Kapetanovic'\n",
    "                        else 'other'\n",
    "                    for artist in x.artist\n",
    "                ],\n",
    "                \n",
    "                # fill titles\n",
    "                title = lambda x: [\n",
    "                    key\n",
    "                        if title == 'not found'\n",
    "                        else title\n",
    "                    for key, title in zip(x.key, x.title)\n",
    "                ]\n",
    "            )\n",
    "        )\n",
    "        print(f'created dataframe, {self.alt_df.shape[0]} entries')\n",
    "        \n",
    "    \n",
    "    def generate_leaderboard_chart(self):\n",
    "        # explicit sort list\n",
    "        sort_list = list(\n",
    "            self\n",
    "            .alt_df\n",
    "            .query('comments > 0')\n",
    "            .sort_values('comments', ascending=False)\n",
    "            .key\n",
    "            .values\n",
    "        )\n",
    "        \n",
    "        # chart\n",
    "        self.rank_chart = alt.Chart(\n",
    "            self.alt_df.query('comments > 0')\n",
    "        ).mark_bar(\n",
    "        ).encode(\n",
    "            alt.Y(\n",
    "                'key:N',\n",
    "                sort=sort_list\n",
    "            ),\n",
    "            alt.X(\n",
    "                'comments:Q',\n",
    "                axis=alt.Axis(orient='top')\n",
    "            ),\n",
    "            color='dummy:N',\n",
    "            href='link',\n",
    "            tooltip=[\n",
    "                alt.Tooltip('artist:N'),\n",
    "                alt.Tooltip('title:N'),\n",
    "                alt.Tooltip('comments:Q')\n",
    "            ]\n",
    "        ).properties(\n",
    "            title='comment count by submission'\n",
    "        ).configure(\n",
    "            #background='#abb2bf'\n",
    "        )\n",
    "        \n",
    "        display(self.rank_chart)\n",
    "        try:\n",
    "            self.rank_chart.save('rank-chart.png')\n",
    "        except Exception as e:\n",
    "            print(f'exception encountered: {e}')\n",
    "    \n",
    "    def main(self):\n",
    "        i = 1\n",
    "        start_time = time.time()\n",
    "        \n",
    "        while True:\n",
    "            if self.page_has_data(self.submissions_url(i)):\n",
    "                self.randomly_sleep()\n",
    "                print(f'getting page {i}')\n",
    "        \n",
    "                # get all details\n",
    "                data_dict = self.get_all_entry_details(\n",
    "                    self.get_page_data(\n",
    "                        self.submissions_url(i)\n",
    "                    )\n",
    "                )\n",
    "                \n",
    "                self.data_dict_list.append(data_dict)                \n",
    "                i += 1\n",
    "            \n",
    "            else:\n",
    "                print(f'scrape complete, elapsed time: {(time.time() - start_time)/60:0.1f} minutes')\n",
    "                break\n",
    "        \n",
    "        self.process_data_dict_list()\n",
    "        self.generate_leaderboard_chart()\n",
    "\n",
    "        "
   ]
  },
  {
   "cell_type": "code",
   "execution_count": null,
   "metadata": {},
   "outputs": [],
   "source": [
    "ACS = ArtContestScraper()\n",
    "ACS.main()"
   ]
  },
  {
   "cell_type": "code",
   "execution_count": null,
   "metadata": {},
   "outputs": [],
   "source": []
  },
  {
   "cell_type": "code",
   "execution_count": 5,
   "metadata": {},
   "outputs": [
    {
     "data": {
      "application/vnd.vegalite.v2+json": {
       "$schema": "https://vega.github.io/schema/vega-lite/v2.6.0.json",
       "config": {
        "view": {
         "height": 300,
         "width": 400
        }
       },
       "data": {
        "name": "data-d6a322be8171497d2ddaf8fe0e434d0a"
       },
       "datasets": {
        "data-d6a322be8171497d2ddaf8fe0e434d0a": [
         {
          "artist": "Valerie Yoder",
          "comments": 3,
          "dummy": "other",
          "key": "first-harvest",
          "link": "https://nouveaulabelcontest.com/first-harvest/",
          "title": "First Harvest"
         },
         {
          "artist": "Samantha Lee",
          "comments": 13,
          "dummy": "other",
          "key": "gymnopedie",
          "link": "https://nouveaulabelcontest.com/gymnopedie/",
          "title": "Gymnopedie"
         },
         {
          "artist": "Samantha Lee",
          "comments": 3,
          "dummy": "other",
          "key": "resuello-del-verano",
          "link": "https://nouveaulabelcontest.com/resuello-del-verano/",
          "title": "Resuello Del Verano"
         },
         {
          "artist": "Rina Kazavchinski",
          "comments": 27,
          "dummy": "other",
          "key": "texas-sunrise",
          "link": "https://nouveaulabelcontest.com/texas-sunrise/",
          "title": "Texas Sunrise"
         },
         {
          "artist": "Samantha Lee",
          "comments": 3,
          "dummy": "other",
          "key": "titanias-promenade",
          "link": "https://nouveaulabelcontest.com/titanias-promenade/",
          "title": "Titania"
         },
         {
          "artist": "not found",
          "comments": 2,
          "dummy": "other",
          "key": "a-garden",
          "link": "https://nouveaulabelcontest.com/a-garden/",
          "title": "a-garden"
         },
         {
          "artist": "Maggie Tookmanian",
          "comments": 1,
          "dummy": "other",
          "key": "blue-collar-rose",
          "link": "https://nouveaulabelcontest.com/blue-collar-rose/",
          "title": "Two Ton Rose"
         },
         {
          "artist": "Guy Boster",
          "comments": 1,
          "dummy": "other",
          "key": "celebrating-the-harvest-moon",
          "link": "https://nouveaulabelcontest.com/celebrating-the-harvest-moon/",
          "title": "Celebrating The Harvest Moon"
         },
         {
          "artist": "Samantha Lee",
          "comments": 5,
          "dummy": "other",
          "key": "finding-kore",
          "link": "https://nouveaulabelcontest.com/finding-kore/",
          "title": "Finding Kore"
         },
         {
          "artist": "Samantha Lee",
          "comments": 2,
          "dummy": "other",
          "key": "ode-to",
          "link": "https://nouveaulabelcontest.com/ode-to/",
          "title": "Ode To"
         },
         {
          "artist": "Marilyn Charlat Dix",
          "comments": 13,
          "dummy": "other",
          "key": "elegance",
          "link": "https://nouveaulabelcontest.com/elegance/",
          "title": "Elegance"
         },
         {
          "artist": "Todd Raymond Krout",
          "comments": 5,
          "dummy": "other",
          "key": "garden-party",
          "link": "https://nouveaulabelcontest.com/garden-party/",
          "title": "Garden Party"
         },
         {
          "artist": "Sarah Plymate",
          "comments": 61,
          "dummy": "other",
          "key": "inflorescence",
          "link": "https://nouveaulabelcontest.com/inflorescence/",
          "title": "Inflorescence"
         },
         {
          "artist": "Fares Rizk",
          "comments": 1,
          "dummy": "other",
          "key": "beaujolais-nouveau",
          "link": "https://nouveaulabelcontest.com/beaujolais-nouveau/",
          "title": "Beaujolais Nouveau"
         },
         {
          "artist": "Janice Wardour",
          "comments": 53,
          "dummy": "other",
          "key": "celebration-9",
          "link": "https://nouveaulabelcontest.com/celebration-9/",
          "title": "Celebration"
         },
         {
          "artist": "Namrata Bhatter",
          "comments": 4,
          "dummy": "other",
          "key": "confluence-2",
          "link": "https://nouveaulabelcontest.com/confluence-2/",
          "title": "Confluence "
         },
         {
          "artist": "Namrata Bhatter",
          "comments": 5,
          "dummy": "other",
          "key": "confluence",
          "link": "https://nouveaulabelcontest.com/confluence/",
          "title": "Confluence"
         },
         {
          "artist": "Fares Rizk",
          "comments": 3,
          "dummy": "other",
          "key": "plenty",
          "link": "https://nouveaulabelcontest.com/plenty/",
          "title": "Plenty"
         },
         {
          "artist": "Fares Rizk",
          "comments": 4,
          "dummy": "other",
          "key": "wine-tasting",
          "link": "https://nouveaulabelcontest.com/wine-tasting/",
          "title": "Wine Tasting"
         },
         {
          "artist": "Leah Nadeau",
          "comments": 8,
          "dummy": "other",
          "key": "i-feel-pretty",
          "link": "https://nouveaulabelcontest.com/i-feel-pretty/",
          "title": "I Feel Pretty"
         },
         {
          "artist": "Jaclyn Pugh",
          "comments": 31,
          "dummy": "other",
          "key": "jubilee",
          "link": "https://nouveaulabelcontest.com/jubilee/",
          "title": "Jubilee"
         },
         {
          "artist": "James Vogler",
          "comments": 11,
          "dummy": "other",
          "key": "out-of-the-blue",
          "link": "https://nouveaulabelcontest.com/out-of-the-blue/",
          "title": "Out Of The Blue"
         },
         {
          "artist": "Anne",
          "comments": 1,
          "dummy": "other",
          "key": "painted-mosaic",
          "link": "https://nouveaulabelcontest.com/painted-mosaic/",
          "title": "Painted Mosaic"
         },
         {
          "artist": "Anne",
          "comments": 1,
          "dummy": "other",
          "key": "tulipos",
          "link": "https://nouveaulabelcontest.com/tulipos/",
          "title": "Tulipos"
         },
         {
          "artist": "Ashley Meyers",
          "comments": 18,
          "dummy": "other",
          "key": "beaujolais-2",
          "link": "https://nouveaulabelcontest.com/beaujolais-2/",
          "title": "Beaujolais"
         },
         {
          "artist": "Adrian Dragoi",
          "comments": 2,
          "dummy": "other",
          "key": "blooming-garden",
          "link": "https://nouveaulabelcontest.com/blooming-garden/",
          "title": "Blooming Garden"
         },
         {
          "artist": "Erika Vazzana",
          "comments": 1,
          "dummy": "other",
          "key": "colors-of-my-soul",
          "link": "https://nouveaulabelcontest.com/colors-of-my-soul/",
          "title": "Colors Of My Soul"
         },
         {
          "artist": "Jan Moore",
          "comments": 1,
          "dummy": "other",
          "key": "in-the-spirit-of-play",
          "link": "https://nouveaulabelcontest.com/in-the-spirit-of-play/",
          "title": "In The Spirit Of Play"
         },
         {
          "artist": "Erica Melcher",
          "comments": 48,
          "dummy": "other",
          "key": "testing-the-waters",
          "link": "https://nouveaulabelcontest.com/testing-the-waters/",
          "title": "testing-the-waters"
         },
         {
          "artist": "Chloe Meyer",
          "comments": 1,
          "dummy": "other",
          "key": "blossomtime",
          "link": "https://nouveaulabelcontest.com/blossomtime/",
          "title": "Blossomtime"
         },
         {
          "artist": "Carla Bartow",
          "comments": 34,
          "dummy": "other",
          "key": "camellia-study-in-gouache",
          "link": "https://nouveaulabelcontest.com/camellia-study-in-gouache/",
          "title": "Camellia Study In Gouache"
         },
         {
          "artist": "Mary Kay Wilson",
          "comments": 43,
          "dummy": "other",
          "key": "celebration-8",
          "link": "https://nouveaulabelcontest.com/celebration-8/",
          "title": "Celebration"
         },
         {
          "artist": "Amy Lindengren",
          "comments": 45,
          "dummy": "other",
          "key": "flight-of-a-peacock",
          "link": "https://nouveaulabelcontest.com/flight-of-a-peacock/",
          "title": "Flight Of A Peacock"
         },
         {
          "artist": "Wilma King",
          "comments": 1,
          "dummy": "other",
          "key": "from-the-good-earth",
          "link": "https://nouveaulabelcontest.com/from-the-good-earth/",
          "title": "From The Good Earth"
         },
         {
          "artist": "Erica Melcher",
          "comments": 14,
          "dummy": "other",
          "key": "what-your-mama-gave-you",
          "link": "https://nouveaulabelcontest.com/what-your-mama-gave-you/",
          "title": "What Your Mama Gave You"
         },
         {
          "artist": "James Vogler",
          "comments": 6,
          "dummy": "other",
          "key": "boxing-day",
          "link": "https://nouveaulabelcontest.com/boxing-day/",
          "title": "Boxing Day"
         },
         {
          "artist": "Lisa Capraro",
          "comments": 1,
          "dummy": "other",
          "key": "goldvines",
          "link": "https://nouveaulabelcontest.com/goldvines/",
          "title": "Goldvines"
         },
         {
          "artist": "Evelyn Roper",
          "comments": 43,
          "dummy": "other",
          "key": "grapes-of-joy",
          "link": "https://nouveaulabelcontest.com/grapes-of-joy/",
          "title": "Grapes Of Joy"
         },
         {
          "artist": "Resa Dance",
          "comments": 2,
          "dummy": "other",
          "key": "harvest-celebration-2",
          "link": "https://nouveaulabelcontest.com/harvest-celebration-2/",
          "title": "Harvest Celebration"
         },
         {
          "artist": "Weiyi",
          "comments": 1,
          "dummy": "other",
          "key": "lightness",
          "link": "https://nouveaulabelcontest.com/lightness/",
          "title": "Lightness"
         },
         {
          "artist": "Erin P",
          "comments": 2,
          "dummy": "other",
          "key": "squeeze-me",
          "link": "https://nouveaulabelcontest.com/squeeze-me/",
          "title": "Squeeze Me"
         },
         {
          "artist": "Margaret Marquez",
          "comments": 1,
          "dummy": "other",
          "key": "sublime-1",
          "link": "https://nouveaulabelcontest.com/sublime-1/",
          "title": "Sublime "
         },
         {
          "artist": "Brittany Minnes",
          "comments": 54,
          "dummy": "other",
          "key": "the-white-butterfly-at-the-vineyard",
          "link": "https://nouveaulabelcontest.com/the-white-butterfly-at-the-vineyard/",
          "title": "The White Butterfly At The Vineyard"
         },
         {
          "artist": "Joni Sarah White",
          "comments": 14,
          "dummy": "other",
          "key": "celebration-7",
          "link": "https://nouveaulabelcontest.com/celebration-7/",
          "title": "Celebration"
         },
         {
          "artist": "Nicole Maki",
          "comments": 6,
          "dummy": "other",
          "key": "dancing-in-the-sunshine",
          "link": "https://nouveaulabelcontest.com/dancing-in-the-sunshine/",
          "title": "Dancing In The Sunshine"
         },
         {
          "artist": "Nicole Maki",
          "comments": 26,
          "dummy": "other",
          "key": "jubilation",
          "link": "https://nouveaulabelcontest.com/jubilation/",
          "title": "Jubliation"
         },
         {
          "artist": "Joni Sarah White",
          "comments": 64,
          "dummy": "other",
          "key": "nouveau",
          "link": "https://nouveaulabelcontest.com/nouveau/",
          "title": "Nouveau"
         },
         {
          "artist": "Jessica Geiger",
          "comments": 1,
          "dummy": "other",
          "key": "bright-days",
          "link": "https://nouveaulabelcontest.com/bright-days/",
          "title": "bright-days"
         },
         {
          "artist": "Penelope Moore",
          "comments": 30,
          "dummy": "other",
          "key": "bursting-bings",
          "link": "https://nouveaulabelcontest.com/bursting-bings/",
          "title": "Bursting Bings"
         },
         {
          "artist": "Jessica Geiger",
          "comments": 10,
          "dummy": "other",
          "key": "dancing-flavors",
          "link": "https://nouveaulabelcontest.com/dancing-flavors/",
          "title": "dancing-flavors"
         },
         {
          "artist": "Candace Lee Smith",
          "comments": 55,
          "dummy": "other",
          "key": "harvest-nouveau",
          "link": "https://nouveaulabelcontest.com/harvest-nouveau/",
          "title": "Harvest Nouveau"
         },
         {
          "artist": "Daniela Mejia",
          "comments": 8,
          "dummy": "other",
          "key": "le-galaxy",
          "link": "https://nouveaulabelcontest.com/le-galaxy/",
          "title": "Le Galaxy"
         },
         {
          "artist": "Jessica Geiger",
          "comments": 4,
          "dummy": "other",
          "key": "new-harvest",
          "link": "https://nouveaulabelcontest.com/new-harvest/",
          "title": "New Harvest"
         },
         {
          "artist": "Jessica Geiger",
          "comments": 1,
          "dummy": "other",
          "key": "shine-on",
          "link": "https://nouveaulabelcontest.com/shine-on/",
          "title": "Shine On"
         },
         {
          "artist": "Margaret Marquez",
          "comments": 1,
          "dummy": "other",
          "key": "summer-dream",
          "link": "https://nouveaulabelcontest.com/summer-dream/",
          "title": "Summer Dream"
         },
         {
          "artist": "Sheneese",
          "comments": 3,
          "dummy": "other",
          "key": "through-the-grapevine",
          "link": "https://nouveaulabelcontest.com/through-the-grapevine/",
          "title": "Through The Grapevine"
         },
         {
          "artist": "Katrina Parker Williams",
          "comments": 4,
          "dummy": "other",
          "key": "vibrant-grape-harvest",
          "link": "https://nouveaulabelcontest.com/vibrant-grape-harvest/",
          "title": "Vibrant Grape Harvest"
         },
         {
          "artist": "Dawn Hopkins",
          "comments": 3,
          "dummy": "other",
          "key": "becoming-ethereal",
          "link": "https://nouveaulabelcontest.com/becoming-ethereal/",
          "title": "Becoming Ethereal"
         },
         {
          "artist": "Teri Jo Rask",
          "comments": 1,
          "dummy": "other",
          "key": "blue-spring",
          "link": "https://nouveaulabelcontest.com/blue-spring/",
          "title": "Blue Spring"
         },
         {
          "artist": "Brett Tachi",
          "comments": 2,
          "dummy": "other",
          "key": "drops",
          "link": "https://nouveaulabelcontest.com/drops/",
          "title": "Drops"
         },
         {
          "artist": "Brett Tachi",
          "comments": 3,
          "dummy": "other",
          "key": "fall-cheer",
          "link": "https://nouveaulabelcontest.com/fall-cheer/",
          "title": "Fall Cheer"
         },
         {
          "artist": "Sheneese",
          "comments": 68,
          "dummy": "other",
          "key": "field-of-spring",
          "link": "https://nouveaulabelcontest.com/field-of-spring/",
          "title": "Field Of Spring"
         },
         {
          "artist": "Brett Tachi",
          "comments": 10,
          "dummy": "other",
          "key": "mandala",
          "link": "https://nouveaulabelcontest.com/mandala/",
          "title": "Mandala"
         },
         {
          "artist": "Teri Jo Rask",
          "comments": 1,
          "dummy": "other",
          "key": "music-and-flowers",
          "link": "https://nouveaulabelcontest.com/music-and-flowers/",
          "title": "Music and Flowers"
         },
         {
          "artist": "Teri Jo Rask",
          "comments": 4,
          "dummy": "other",
          "key": "sparkle",
          "link": "https://nouveaulabelcontest.com/sparkle/",
          "title": "Sparkle"
         },
         {
          "artist": "Brett Tachi",
          "comments": 6,
          "dummy": "other",
          "key": "splatter",
          "link": "https://nouveaulabelcontest.com/splatter/",
          "title": "Splatter"
         },
         {
          "artist": "Teri Jo Rask",
          "comments": 1,
          "dummy": "other",
          "key": "you-are-empty",
          "link": "https://nouveaulabelcontest.com/you-are-empty/",
          "title": "You Are Empty"
         },
         {
          "artist": "Carol Deter",
          "comments": 1,
          "dummy": "other",
          "key": "09-22-1946",
          "link": "https://nouveaulabelcontest.com/09-22-1946/",
          "title": "09-22-1946"
         },
         {
          "artist": "Parnilla Carpenter",
          "comments": 34,
          "dummy": "other",
          "key": "encounter",
          "link": "https://nouveaulabelcontest.com/encounter/",
          "title": "Ecouter"
         },
         {
          "artist": "Stavroula Borovich",
          "comments": 89,
          "dummy": "other",
          "key": "flying-high",
          "link": "https://nouveaulabelcontest.com/flying-high/",
          "title": "Flying High"
         },
         {
          "artist": "Gigi Barrett",
          "comments": 7,
          "dummy": "other",
          "key": "to-family",
          "link": "https://nouveaulabelcontest.com/to-family/",
          "title": "To Family"
         },
         {
          "artist": "Lesly Smith",
          "comments": 8,
          "dummy": "other",
          "key": "tranquility-2",
          "link": "https://nouveaulabelcontest.com/tranquility-2/",
          "title": "Tranquility"
         },
         {
          "artist": "Lesly Smith",
          "comments": 8,
          "dummy": "other",
          "key": "wildfire",
          "link": "https://nouveaulabelcontest.com/wildfire/",
          "title": "Wildfire"
         },
         {
          "artist": "Diane Turner",
          "comments": 19,
          "dummy": "other",
          "key": "collision-in-red-and-blue",
          "link": "https://nouveaulabelcontest.com/collision-in-red-and-blue/",
          "title": "Collision In Red and Blue"
         },
         {
          "artist": "Diane Turner",
          "comments": 19,
          "dummy": "other",
          "key": "fete-2",
          "link": "https://nouveaulabelcontest.com/fete-2/",
          "title": "F"
         },
         {
          "artist": "Diane Turner",
          "comments": 18,
          "dummy": "other",
          "key": "fete",
          "link": "https://nouveaulabelcontest.com/fete/",
          "title": "F"
         },
         {
          "artist": "Parnilla Carpenter",
          "comments": 20,
          "dummy": "other",
          "key": "renaissance",
          "link": "https://nouveaulabelcontest.com/renaissance/",
          "title": "Renaissance"
         },
         {
          "artist": "Aurora Innconnu",
          "comments": 6,
          "dummy": "other",
          "key": "road-to-beaujolais",
          "link": "https://nouveaulabelcontest.com/road-to-beaujolais/",
          "title": "Road To Beaujolais"
         },
         {
          "artist": "Diane Turner",
          "comments": 19,
          "dummy": "other",
          "key": "spanish-moss",
          "link": "https://nouveaulabelcontest.com/spanish-moss/",
          "title": "Spanish Moss"
         },
         {
          "artist": "Diane L Oehrle",
          "comments": 5,
          "dummy": "other",
          "key": "calling-for-divine-intervention",
          "link": "https://nouveaulabelcontest.com/calling-for-divine-intervention/",
          "title": "Calling For Divine Intervention"
         },
         {
          "artist": "Diane Turner",
          "comments": 50,
          "dummy": "other",
          "key": "coalescence",
          "link": "https://nouveaulabelcontest.com/coalescence/",
          "title": "Coalescence"
         },
         {
          "artist": "Laura Runge",
          "comments": 217,
          "dummy": "other",
          "key": "joyous-crush",
          "link": "https://nouveaulabelcontest.com/joyous-crush/",
          "title": "Joyous Crush"
         },
         {
          "artist": "Diane L Oehrle",
          "comments": 3,
          "dummy": "other",
          "key": "magnolia-grandifolia",
          "link": "https://nouveaulabelcontest.com/magnolia-grandifolia/",
          "title": "Magnolia Grandifolia"
         },
         {
          "artist": "Corinna Maggy",
          "comments": 35,
          "dummy": "other",
          "key": "rising-strong",
          "link": "https://nouveaulabelcontest.com/rising-strong/",
          "title": "Rising Strong"
         },
         {
          "artist": "Lisa Kling",
          "comments": 7,
          "dummy": "other",
          "key": "affair-of-the-heart",
          "link": "https://nouveaulabelcontest.com/affair-of-the-heart/",
          "title": "Affair Of The Heart"
         },
         {
          "artist": "Sue Goldberg",
          "comments": 14,
          "dummy": "other",
          "key": "crimson-bloom",
          "link": "https://nouveaulabelcontest.com/crimson-bloom/",
          "title": "Crimson Bloom"
         },
         {
          "artist": "Lisa Kling",
          "comments": 3,
          "dummy": "other",
          "key": "salute-2",
          "link": "https://nouveaulabelcontest.com/salute-2/",
          "title": "Salute"
         },
         {
          "artist": "Sue Goldberg",
          "comments": 24,
          "dummy": "other",
          "key": "untitled-3",
          "link": "https://nouveaulabelcontest.com/untitled-3/",
          "title": "Flights Of Fancy"
         },
         {
          "artist": "not found",
          "comments": 1,
          "dummy": "other",
          "key": "night-swimming-no-2",
          "link": "https://nouveaulabelcontest.com/night-swimming-no-2/",
          "title": "night-swimming-no-2"
         },
         {
          "artist": "not found",
          "comments": 1,
          "dummy": "other",
          "key": "ophelia-at-sunrise",
          "link": "https://nouveaulabelcontest.com/ophelia-at-sunrise/",
          "title": "ophelia-at-sunrise"
         },
         {
          "artist": "Jessica McCormick",
          "comments": 24,
          "dummy": "other",
          "key": "primeur",
          "link": "https://nouveaulabelcontest.com/primeur/",
          "title": "Primeur"
         },
         {
          "artist": "not found",
          "comments": 2,
          "dummy": "other",
          "key": "entwined-no-1",
          "link": "https://nouveaulabelcontest.com/entwined-no-1/",
          "title": "entwined-no-1"
         },
         {
          "artist": "Mikayla Murray",
          "comments": 15,
          "dummy": "other",
          "key": "fruit-basket",
          "link": "https://nouveaulabelcontest.com/fruit-basket/",
          "title": "fruit-basket"
         },
         {
          "artist": "not found",
          "comments": 2,
          "dummy": "other",
          "key": "glow",
          "link": "https://nouveaulabelcontest.com/glow/",
          "title": "glow"
         },
         {
          "artist": "not found",
          "comments": 1,
          "dummy": "other",
          "key": "oysters-wine-friends",
          "link": "https://nouveaulabelcontest.com/oysters-wine-friends/",
          "title": "oysters-wine-friends"
         },
         {
          "artist": "Rebecca Hallstrom",
          "comments": 34,
          "dummy": "other",
          "key": "abundance",
          "link": "https://nouveaulabelcontest.com/abundance/",
          "title": "Abundance"
         },
         {
          "artist": "not found",
          "comments": 69,
          "dummy": "other",
          "key": "beaujolais-coucher-du-soleil",
          "link": "https://nouveaulabelcontest.com/beaujolais-coucher-du-soleil/",
          "title": "beaujolais-coucher-du-soleil"
         },
         {
          "artist": "not found",
          "comments": 14,
          "dummy": "other",
          "key": "chika-michelle",
          "link": "https://nouveaulabelcontest.com/chika-michelle/",
          "title": "chika-michelle"
         },
         {
          "artist": "Rebecca Hallstrom",
          "comments": 30,
          "dummy": "other",
          "key": "coming-full-circle",
          "link": "https://nouveaulabelcontest.com/coming-full-circle/",
          "title": "Coming Full Circle"
         },
         {
          "artist": "Sandra Morellato",
          "comments": 1,
          "dummy": "other",
          "key": "enchanted-forest",
          "link": "https://nouveaulabelcontest.com/enchanted-forest/",
          "title": "Enchanted Forest"
         },
         {
          "artist": "not found",
          "comments": 13,
          "dummy": "other",
          "key": "juicy-pop",
          "link": "https://nouveaulabelcontest.com/juicy-pop/",
          "title": "juicy-pop"
         },
         {
          "artist": "not found",
          "comments": 18,
          "dummy": "other",
          "key": "life-is-good-under-a-green-sun",
          "link": "https://nouveaulabelcontest.com/life-is-good-under-a-green-sun/",
          "title": "life-is-good-under-a-green-sun"
         },
         {
          "artist": "Annalisa Bosi",
          "comments": 3,
          "dummy": "other",
          "key": "red-rose",
          "link": "https://nouveaulabelcontest.com/red-rose/",
          "title": "Red Rose"
         },
         {
          "artist": "Lisa Concannon",
          "comments": 15,
          "dummy": "other",
          "key": "blossom",
          "link": "https://nouveaulabelcontest.com/blossom/",
          "title": "Blossom"
         },
         {
          "artist": "Lisa Concannon",
          "comments": 5,
          "dummy": "other",
          "key": "divine-intervention",
          "link": "https://nouveaulabelcontest.com/divine-intervention/",
          "title": "Divine Intervention"
         },
         {
          "artist": "Patrizia Ghirardani",
          "comments": 21,
          "dummy": "other",
          "key": "lets-dance",
          "link": "https://nouveaulabelcontest.com/lets-dance/",
          "title": "Let"
         },
         {
          "artist": "Lisa Concannon",
          "comments": 4,
          "dummy": "other",
          "key": "november-rain",
          "link": "https://nouveaulabelcontest.com/november-rain/",
          "title": "November Rain"
         },
         {
          "artist": "Joan Klatil Creamer",
          "comments": 13,
          "dummy": "other",
          "key": "rainbows-end",
          "link": "https://nouveaulabelcontest.com/rainbows-end/",
          "title": "Rainbows End"
         },
         {
          "artist": "Hilary Berens",
          "comments": 1,
          "dummy": "other",
          "key": "revival",
          "link": "https://nouveaulabelcontest.com/revival/",
          "title": "Revival"
         },
         {
          "artist": "Joan Klatil Creamer",
          "comments": 61,
          "dummy": "other",
          "key": "sunset-repast",
          "link": "https://nouveaulabelcontest.com/sunset-repast/",
          "title": "Sunset Repast"
         },
         {
          "artist": "Joan Klatil Creamer",
          "comments": 31,
          "dummy": "other",
          "key": "your-choice",
          "link": "https://nouveaulabelcontest.com/your-choice/",
          "title": "Your Choice"
         },
         {
          "artist": "Karol Batansky",
          "comments": 24,
          "dummy": "other",
          "key": "connected",
          "link": "https://nouveaulabelcontest.com/connected/",
          "title": "Connected"
         },
         {
          "artist": "Gentry Warren",
          "comments": 68,
          "dummy": "other",
          "key": "finding-center-in-the-forest",
          "link": "https://nouveaulabelcontest.com/finding-center-in-the-forest/",
          "title": "Finding Center In The Forest"
         },
         {
          "artist": "Karol Batansky",
          "comments": 24,
          "dummy": "other",
          "key": "hidden-4",
          "link": "https://nouveaulabelcontest.com/hidden-4/",
          "title": "Hidden "
         },
         {
          "artist": "Gentry Warren",
          "comments": 3,
          "dummy": "other",
          "key": "oh-for-the-love-of-spring",
          "link": "https://nouveaulabelcontest.com/oh-for-the-love-of-spring/",
          "title": "Oh For The Love Of Spring"
         },
         {
          "artist": "Gentry Warren",
          "comments": 2,
          "dummy": "other",
          "key": "oui",
          "link": "https://nouveaulabelcontest.com/oui/",
          "title": "OUI"
         },
         {
          "artist": "Gentry Warren",
          "comments": 1,
          "dummy": "other",
          "key": "the-vase-grandma-brought-from-the-motherland",
          "link": "https://nouveaulabelcontest.com/the-vase-grandma-brought-from-the-motherland/",
          "title": "The Vase Grandma Brought From The Motherland"
         },
         {
          "artist": "Jennifer Ryan",
          "comments": 13,
          "dummy": "other",
          "key": "converge-and-satiate",
          "link": "https://nouveaulabelcontest.com/converge-and-satiate/",
          "title": "Converge and Satiate"
         },
         {
          "artist": "Rina Patel",
          "comments": 41,
          "dummy": "other",
          "key": "dancing-in-the-wind",
          "link": "https://nouveaulabelcontest.com/dancing-in-the-wind/",
          "title": "Dancing In The Wind"
         },
         {
          "artist": "Rina Patel",
          "comments": 42,
          "dummy": "other",
          "key": "meadow-dance",
          "link": "https://nouveaulabelcontest.com/meadow-dance/",
          "title": "Meadow Dance"
         },
         {
          "artist": "Rina Patel",
          "comments": 52,
          "dummy": "other",
          "key": "meadow-song",
          "link": "https://nouveaulabelcontest.com/meadow-song/",
          "title": "Meadow Song"
         },
         {
          "artist": "Meg Ryan",
          "comments": 1,
          "dummy": "other",
          "key": "stormy-sunset-2",
          "link": "https://nouveaulabelcontest.com/stormy-sunset-2/",
          "title": "Stormy Sunset "
         },
         {
          "artist": "Paula Callejas",
          "comments": 1,
          "dummy": "other",
          "key": "wonder-in-the-rainbow",
          "link": "https://nouveaulabelcontest.com/wonder-in-the-rainbow/",
          "title": "Wonder In The Rainbow"
         },
         {
          "artist": "Wendy L",
          "comments": 2,
          "dummy": "other",
          "key": "formidable",
          "link": "https://nouveaulabelcontest.com/formidable/",
          "title": "formidable"
         },
         {
          "artist": "Hilary Berens",
          "comments": 1,
          "dummy": "other",
          "key": "natures-light",
          "link": "https://nouveaulabelcontest.com/natures-light/",
          "title": "Nature"
         },
         {
          "artist": "Wijnanda Smink",
          "comments": 1,
          "dummy": "other",
          "key": "place-to-be",
          "link": "https://nouveaulabelcontest.com/place-to-be/",
          "title": "Place To Be"
         },
         {
          "artist": "Enola Lynn Pevey",
          "comments": 62,
          "dummy": "other",
          "key": "somewhere-in-france",
          "link": "https://nouveaulabelcontest.com/somewhere-in-france/",
          "title": "Somewhere In France"
         },
         {
          "artist": "Corinne Montgomerie",
          "comments": 3,
          "dummy": "other",
          "key": "the-awakening",
          "link": "https://nouveaulabelcontest.com/the-awakening/",
          "title": "The Awakening"
         },
         {
          "artist": "Hilary Berens",
          "comments": 1,
          "dummy": "other",
          "key": "the-valley",
          "link": "https://nouveaulabelcontest.com/the-valley/",
          "title": "The Valley"
         },
         {
          "artist": "Julie Dent",
          "comments": 10,
          "dummy": "other",
          "key": "aerial-harvest",
          "link": "https://nouveaulabelcontest.com/aerial-harvest/",
          "title": "Aerial Harvest"
         },
         {
          "artist": "Laura Haselton",
          "comments": 2,
          "dummy": "other",
          "key": "cellular-mandala",
          "link": "https://nouveaulabelcontest.com/cellular-mandala/",
          "title": "Cellular Mandala"
         },
         {
          "artist": "Julie Dent",
          "comments": 21,
          "dummy": "other",
          "key": "crests-and-valleys",
          "link": "https://nouveaulabelcontest.com/crests-and-valleys/",
          "title": "Crests and Valleys"
         },
         {
          "artist": "Wendy L",
          "comments": 13,
          "dummy": "other",
          "key": "fond-memories",
          "link": "https://nouveaulabelcontest.com/fond-memories/",
          "title": "Fond Memories"
         },
         {
          "artist": "Corinne Montgomerie",
          "comments": 5,
          "dummy": "other",
          "key": "la-deesse-du-vin",
          "link": "https://nouveaulabelcontest.com/la-deesse-du-vin/",
          "title": "La Deesse Du Vin"
         },
         {
          "artist": "Lisa Mamounas",
          "comments": 32,
          "dummy": "other",
          "key": "show-me-the-way",
          "link": "https://nouveaulabelcontest.com/show-me-the-way/",
          "title": "Show Me The Way"
         },
         {
          "artist": "Ann Poole",
          "comments": 15,
          "dummy": "other",
          "key": "the-scents-of-celebration-2",
          "link": "https://nouveaulabelcontest.com/the-scents-of-celebration-2/",
          "title": "The Scents Of Celebration"
         },
         {
          "artist": "Lisa Mamounas",
          "comments": 68,
          "dummy": "other",
          "key": "the-truth-hurts",
          "link": "https://nouveaulabelcontest.com/the-truth-hurts/",
          "title": "Beauty Is Truth"
         },
         {
          "artist": "Alyssa Green",
          "comments": 53,
          "dummy": "other",
          "key": "dusk-of-harvest",
          "link": "https://nouveaulabelcontest.com/dusk-of-harvest/",
          "title": "Dusk Of Harvest"
         },
         {
          "artist": "Lisa Mamounas",
          "comments": 53,
          "dummy": "other",
          "key": "just-the-way-you-are",
          "link": "https://nouveaulabelcontest.com/just-the-way-you-are/",
          "title": "Just The Way You Are"
         },
         {
          "artist": "not found",
          "comments": 1,
          "dummy": "other",
          "key": "sensation",
          "link": "https://nouveaulabelcontest.com/sensation/",
          "title": "sensation"
         },
         {
          "artist": "Lisa Mamounas",
          "comments": 29,
          "dummy": "other",
          "key": "stand-in-your-power",
          "link": "https://nouveaulabelcontest.com/stand-in-your-power/",
          "title": "Stand In Your Power"
         },
         {
          "artist": "Kate Marion Lapierre",
          "comments": 1,
          "dummy": "other",
          "key": "sweetness",
          "link": "https://nouveaulabelcontest.com/sweetness/",
          "title": "Sweetness"
         },
         {
          "artist": "Corinne Montgomery",
          "comments": 11,
          "dummy": "other",
          "key": "the-soul-of-a-woman",
          "link": "https://nouveaulabelcontest.com/the-soul-of-a-woman/",
          "title": "The Soul Of A Woman"
         },
         {
          "artist": "Patrizia Chirardani",
          "comments": 19,
          "dummy": "other",
          "key": "triumph",
          "link": "https://nouveaulabelcontest.com/triumph/",
          "title": "Triumph"
         },
         {
          "artist": "Corinne Montgomerie",
          "comments": 7,
          "dummy": "other",
          "key": "woman-2",
          "link": "https://nouveaulabelcontest.com/woman-2/",
          "title": "Woman "
         },
         {
          "artist": "Nancy Shell",
          "comments": 1,
          "dummy": "other",
          "key": "hot-tub-happiness",
          "link": "https://nouveaulabelcontest.com/hot-tub-happiness/",
          "title": "Hot Tub Happiness"
         },
         {
          "artist": "Jeanie Latiolais",
          "comments": 1,
          "dummy": "other",
          "key": "mixed-media-painting-on-canvas",
          "link": "https://nouveaulabelcontest.com/mixed-media-painting-on-canvas/",
          "title": "Mixed Media Painting On Canvas"
         },
         {
          "artist": "Jeanie Latiolais",
          "comments": 17,
          "dummy": "other",
          "key": "morning-glory",
          "link": "https://nouveaulabelcontest.com/morning-glory/",
          "title": "Morning Glory"
         },
         {
          "artist": "Daniel Henke",
          "comments": 12,
          "dummy": "other",
          "key": "the-mood",
          "link": "https://nouveaulabelcontest.com/the-mood/",
          "title": "The Mood"
         },
         {
          "artist": "Daniel Henke",
          "comments": 15,
          "dummy": "other",
          "key": "vines-vibrancy",
          "link": "https://nouveaulabelcontest.com/vines-vibrancy/",
          "title": "Vines Vibrancy"
         },
         {
          "artist": "SJ Kopp",
          "comments": 2,
          "dummy": "other",
          "key": "amber",
          "link": "https://nouveaulabelcontest.com/amber/",
          "title": "Amber"
         },
         {
          "artist": "SJ Kopp",
          "comments": 2,
          "dummy": "other",
          "key": "aster",
          "link": "https://nouveaulabelcontest.com/aster/",
          "title": "Aster"
         },
         {
          "artist": "SJ Kopp",
          "comments": 19,
          "dummy": "other",
          "key": "callie",
          "link": "https://nouveaulabelcontest.com/callie/",
          "title": "Callie"
         },
         {
          "artist": "Nancy Shell",
          "comments": 2,
          "dummy": "other",
          "key": "cosmic-protection-goddesses",
          "link": "https://nouveaulabelcontest.com/cosmic-protection-goddesses/",
          "title": "Cosmic Protection Goddesses"
         },
         {
          "artist": "Nicole Edens",
          "comments": 7,
          "dummy": "other",
          "key": "heavy-heart",
          "link": "https://nouveaulabelcontest.com/heavy-heart/",
          "title": "Heavy Heart"
         },
         {
          "artist": "Nicole Edens",
          "comments": 9,
          "dummy": "other",
          "key": "love-me",
          "link": "https://nouveaulabelcontest.com/love-me/",
          "title": "Love Me"
         },
         {
          "artist": "Nicole Edens",
          "comments": 7,
          "dummy": "other",
          "key": "too-young",
          "link": "https://nouveaulabelcontest.com/too-young/",
          "title": "Too Young"
         },
         {
          "artist": "Lori Rayfield",
          "comments": 1,
          "dummy": "other",
          "key": "upper-west-side",
          "link": "https://nouveaulabelcontest.com/upper-west-side/",
          "title": "Upper West Side"
         },
         {
          "artist": "Daniel Henke",
          "comments": 6,
          "dummy": "other",
          "key": "cat",
          "link": "https://nouveaulabelcontest.com/cat/",
          "title": "Cat"
         },
         {
          "artist": "Daniel Henke",
          "comments": 11,
          "dummy": "other",
          "key": "color-burst",
          "link": "https://nouveaulabelcontest.com/color-burst/",
          "title": "Color Burst"
         },
         {
          "artist": "Isabel Sun",
          "comments": 4,
          "dummy": "other",
          "key": "harvest-sun",
          "link": "https://nouveaulabelcontest.com/harvest-sun/",
          "title": "Harvest Sun"
         },
         {
          "artist": "Isabelle Bonilla",
          "comments": 6,
          "dummy": "other",
          "key": "ignite",
          "link": "https://nouveaulabelcontest.com/ignite/",
          "title": "Ignite"
         },
         {
          "artist": "Isabel Bonilla",
          "comments": 4,
          "dummy": "other",
          "key": "muisca-sun",
          "link": "https://nouveaulabelcontest.com/muisca-sun/",
          "title": "Muisca Sun"
         },
         {
          "artist": "Pat Millin",
          "comments": 13,
          "dummy": "other",
          "key": "saturday-night",
          "link": "https://nouveaulabelcontest.com/saturday-night/",
          "title": "Saturday Night"
         },
         {
          "artist": "Isabel Bonilla",
          "comments": 15,
          "dummy": "other",
          "key": "summer-dancer",
          "link": "https://nouveaulabelcontest.com/summer-dancer/",
          "title": "Summer Dancer"
         },
         {
          "artist": "Pat Millin",
          "comments": 10,
          "dummy": "other",
          "key": "the-hug",
          "link": "https://nouveaulabelcontest.com/the-hug/",
          "title": "The Hug"
         },
         {
          "artist": "Daniel Henke",
          "comments": 2,
          "dummy": "other",
          "key": "the-kiss-of-soul",
          "link": "https://nouveaulabelcontest.com/the-kiss-of-soul/",
          "title": "The Kiss Of Soul"
         },
         {
          "artist": "Isabel Bonilla",
          "comments": 3,
          "dummy": "other",
          "key": "violet-river",
          "link": "https://nouveaulabelcontest.com/violet-river/",
          "title": "Violet River"
         },
         {
          "artist": "Angela Corey",
          "comments": 4,
          "dummy": "other",
          "key": "blush",
          "link": "https://nouveaulabelcontest.com/blush/",
          "title": "Blush"
         },
         {
          "artist": "Karen Romani",
          "comments": 10,
          "dummy": "other",
          "key": "floating-2",
          "link": "https://nouveaulabelcontest.com/floating-2/",
          "title": "Floating "
         },
         {
          "artist": "Karen Romani",
          "comments": 20,
          "dummy": "other",
          "key": "harvest",
          "link": "https://nouveaulabelcontest.com/harvest/",
          "title": "Harvest"
         },
         {
          "artist": "Susan Leanza",
          "comments": 1,
          "dummy": "other",
          "key": "peacock",
          "link": "https://nouveaulabelcontest.com/peacock/",
          "title": "Peacock"
         },
         {
          "artist": "Angela Corey",
          "comments": 5,
          "dummy": "other",
          "key": "splendor",
          "link": "https://nouveaulabelcontest.com/splendor/",
          "title": "Splendor"
         },
         {
          "artist": "Karen Romani",
          "comments": 3,
          "dummy": "other",
          "key": "blooming",
          "link": "https://nouveaulabelcontest.com/blooming/",
          "title": "Blooming"
         },
         {
          "artist": "Victoria Lynn Allen",
          "comments": 3,
          "dummy": "other",
          "key": "dark-side-of-the-vine-1",
          "link": "https://nouveaulabelcontest.com/dark-side-of-the-vine-1/",
          "title": "Dark Side Of The Vine "
         },
         {
          "artist": "Victoria Lynn Allen",
          "comments": 1,
          "dummy": "other",
          "key": "dark-side-of-the-vine-2",
          "link": "https://nouveaulabelcontest.com/dark-side-of-the-vine-2/",
          "title": "Dark Side Of The Vine "
         },
         {
          "artist": "Karen Romani",
          "comments": 3,
          "dummy": "other",
          "key": "floating-1",
          "link": "https://nouveaulabelcontest.com/floating-1/",
          "title": "Floating "
         },
         {
          "artist": "Susan Ferraro",
          "comments": 15,
          "dummy": "other",
          "key": "in-full-bloom",
          "link": "https://nouveaulabelcontest.com/in-full-bloom/",
          "title": "In Full Bloom"
         },
         {
          "artist": "Natalie Reilly",
          "comments": 1,
          "dummy": "other",
          "key": "orange-dahlia",
          "link": "https://nouveaulabelcontest.com/orange-dahlia/",
          "title": "Orange Dahlia"
         },
         {
          "artist": "Michael G Teevan",
          "comments": 19,
          "dummy": "other",
          "key": "bliss",
          "link": "https://nouveaulabelcontest.com/bliss/",
          "title": "Bliss"
         },
         {
          "artist": "Cherie Heath",
          "comments": 6,
          "dummy": "other",
          "key": "bountiful-harvest-3",
          "link": "https://nouveaulabelcontest.com/bountiful-harvest-3/",
          "title": "Bountiful Harvest"
         },
         {
          "artist": "Leah Nadeau",
          "comments": 311,
          "dummy": "other",
          "key": "city-by-the-bay",
          "link": "https://nouveaulabelcontest.com/city-by-the-bay/",
          "title": "City By The Bay"
         },
         {
          "artist": "Melissa Partridge",
          "comments": 8,
          "dummy": "other",
          "key": "floral-joy",
          "link": "https://nouveaulabelcontest.com/floral-joy/",
          "title": "Floral Joy"
         },
         {
          "artist": "Michael G Teevan",
          "comments": 25,
          "dummy": "other",
          "key": "joyful-dragon",
          "link": "https://nouveaulabelcontest.com/joyful-dragon/",
          "title": "Joyful Dragon"
         },
         {
          "artist": "Cherie Heath",
          "comments": 51,
          "dummy": "other",
          "key": "natures-gift",
          "link": "https://nouveaulabelcontest.com/natures-gift/",
          "title": "Nature"
         },
         {
          "artist": "Melissa Partridge",
          "comments": 4,
          "dummy": "other",
          "key": "rainbow-bliss",
          "link": "https://nouveaulabelcontest.com/rainbow-bliss/",
          "title": "Rainbow Bliss"
         },
         {
          "artist": "Michael G Teevan",
          "comments": 10,
          "dummy": "other",
          "key": "synapse",
          "link": "https://nouveaulabelcontest.com/synapse/",
          "title": "Synapse"
         },
         {
          "artist": "Michael G Teevan",
          "comments": 17,
          "dummy": "other",
          "key": "trip-the-light-fantastic",
          "link": "https://nouveaulabelcontest.com/trip-the-light-fantastic/",
          "title": "Trip The Light Fantastic"
         },
         {
          "artist": "Michael G Teevan",
          "comments": 30,
          "dummy": "other",
          "key": "underwater-explosion",
          "link": "https://nouveaulabelcontest.com/underwater-explosion/",
          "title": "Underwater Explosion"
         },
         {
          "artist": "Kelly Kchelena",
          "comments": 13,
          "dummy": "other",
          "key": "by-any-other-name",
          "link": "https://nouveaulabelcontest.com/by-any-other-name/",
          "title": "By Any Other Name"
         },
         {
          "artist": "Hayley Kathleen Burton",
          "comments": 7,
          "dummy": "other",
          "key": "flight",
          "link": "https://nouveaulabelcontest.com/flight/",
          "title": "Flight"
         },
         {
          "artist": "Hayley Kathleen Burton",
          "comments": 6,
          "dummy": "other",
          "key": "frankie",
          "link": "https://nouveaulabelcontest.com/frankie/",
          "title": "Frankie"
         },
         {
          "artist": "Kelly Kchelena",
          "comments": 13,
          "dummy": "other",
          "key": "garden-wind",
          "link": "https://nouveaulabelcontest.com/garden-wind/",
          "title": "Garden Wind"
         },
         {
          "artist": "Melissa Partridge",
          "comments": 7,
          "dummy": "other",
          "key": "magnetic-energy",
          "link": "https://nouveaulabelcontest.com/magnetic-energy/",
          "title": "Magnetic Energy"
         },
         {
          "artist": "Hayley Kathleen Burton",
          "comments": 8,
          "dummy": "other",
          "key": "native-electric",
          "link": "https://nouveaulabelcontest.com/native-electric/",
          "title": "Native Electric"
         },
         {
          "artist": "Kelly Kchelena",
          "comments": 7,
          "dummy": "other",
          "key": "pink-rules",
          "link": "https://nouveaulabelcontest.com/pink-rules/",
          "title": "Pink Rules"
         },
         {
          "artist": "Melissa Partridge",
          "comments": 9,
          "dummy": "other",
          "key": "summertime-2",
          "link": "https://nouveaulabelcontest.com/summertime-2/",
          "title": "Summertime"
         },
         {
          "artist": "Melissa Partridge",
          "comments": 97,
          "dummy": "other",
          "key": "unicorn-kisses",
          "link": "https://nouveaulabelcontest.com/unicorn-kisses/",
          "title": "Unicorn Kisses"
         },
         {
          "artist": "Kelly Kchelena",
          "comments": 15,
          "dummy": "other",
          "key": "windy-day",
          "link": "https://nouveaulabelcontest.com/windy-day/",
          "title": "Windy Day"
         },
         {
          "artist": "Nina Ramos",
          "comments": 1,
          "dummy": "other",
          "key": "flor-de-invierno",
          "link": "https://nouveaulabelcontest.com/flor-de-invierno/",
          "title": "Flo de Invierno"
         },
         {
          "artist": "Megan Ferrell",
          "comments": 99,
          "dummy": "other",
          "key": "london-glass-abstract-1",
          "link": "https://nouveaulabelcontest.com/london-glass-abstract-1/",
          "title": "London Glass Abstract "
         },
         {
          "artist": "Megan Ferrell",
          "comments": 105,
          "dummy": "other",
          "key": "london-glass-abstract-2",
          "link": "https://nouveaulabelcontest.com/london-glass-abstract-2/",
          "title": "London Glass Abstract "
         },
         {
          "artist": "Melissa Cain",
          "comments": 10,
          "dummy": "other",
          "key": "springtime-in-the-city",
          "link": "https://nouveaulabelcontest.com/springtime-in-the-city/",
          "title": "Springtime In The City"
         },
         {
          "artist": "Kelly Kchelena",
          "comments": 9,
          "dummy": "other",
          "key": "that-time",
          "link": "https://nouveaulabelcontest.com/that-time/",
          "title": "That Time"
         },
         {
          "artist": "Nina Ramos",
          "comments": 2,
          "dummy": "other",
          "key": "wisteria-lane",
          "link": "https://nouveaulabelcontest.com/wisteria-lane/",
          "title": "Wisteria Lane"
         },
         {
          "artist": "Guy Boster",
          "comments": 25,
          "dummy": "other",
          "key": "autumn-celebration",
          "link": "https://nouveaulabelcontest.com/autumn-celebration/",
          "title": "Autumn Celebration"
         },
         {
          "artist": "Nina Ramos",
          "comments": 1,
          "dummy": "other",
          "key": "blooming-in-drowsy-sunshine",
          "link": "https://nouveaulabelcontest.com/blooming-in-drowsy-sunshine/",
          "title": "Blooming In Drowsy Sunshine"
         },
         {
          "artist": "Ginger Garfield",
          "comments": 29,
          "dummy": "other",
          "key": "celebration-sunlit-harvest",
          "link": "https://nouveaulabelcontest.com/celebration-sunlit-harvest/",
          "title": "Celebration"
         },
         {
          "artist": "Lauren Vincent",
          "comments": 36,
          "dummy": "other",
          "key": "centrum",
          "link": "https://nouveaulabelcontest.com/centrum/",
          "title": "Centrum"
         },
         {
          "artist": "Lauren Vincent",
          "comments": 28,
          "dummy": "other",
          "key": "dance-with-me",
          "link": "https://nouveaulabelcontest.com/dance-with-me/",
          "title": "Dance With Me"
         },
         {
          "artist": "Leah Nadeau",
          "comments": 1,
          "dummy": "other",
          "key": "jukebox-hero",
          "link": "https://nouveaulabelcontest.com/jukebox-hero/",
          "title": "Jukebox Hero"
         },
         {
          "artist": "Lauren Vincent",
          "comments": 37,
          "dummy": "other",
          "key": "lo-lo-with-the-flow",
          "link": "https://nouveaulabelcontest.com/lo-lo-with-the-flow/",
          "title": "Lo Lo With The "
         },
         {
          "artist": "Lauren Vincent",
          "comments": 60,
          "dummy": "other",
          "key": "natures-party",
          "link": "https://nouveaulabelcontest.com/natures-party/",
          "title": "Nature"
         },
         {
          "artist": "Taline Saatjian",
          "comments": 5,
          "dummy": "other",
          "key": "autumn-leaves",
          "link": "https://nouveaulabelcontest.com/autumn-leaves/",
          "title": "Autumn Leaves"
         },
         {
          "artist": "Jon Parlangeli",
          "comments": 1,
          "dummy": "other",
          "key": "earthly-delights",
          "link": "https://nouveaulabelcontest.com/earthly-delights/",
          "title": "Earthly Delights"
         },
         {
          "artist": "Jeffrey Thornton Fitzgerald",
          "comments": 1,
          "dummy": "other",
          "key": "enduring",
          "link": "https://nouveaulabelcontest.com/enduring/",
          "title": "Enduring"
         },
         {
          "artist": "Robert Corwin",
          "comments": 1,
          "dummy": "other",
          "key": "forest-fairy",
          "link": "https://nouveaulabelcontest.com/forest-fairy/",
          "title": "Forest Fairy"
         },
         {
          "artist": "Nancy Shell",
          "comments": 9,
          "dummy": "other",
          "key": "irises-in-the-morning",
          "link": "https://nouveaulabelcontest.com/irises-in-the-morning/",
          "title": "Irises In The Morning"
         },
         {
          "artist": "Mrs",
          "comments": 2,
          "dummy": "other",
          "key": "running-spirit-of-the-earth",
          "link": "https://nouveaulabelcontest.com/running-spirit-of-the-earth/",
          "title": "Running Spirit Of The Earth"
         },
         {
          "artist": "Britt Moorehead",
          "comments": 1,
          "dummy": "other",
          "key": "signals",
          "link": "https://nouveaulabelcontest.com/signals/",
          "title": "Signals"
         },
         {
          "artist": "Taline Saatjian",
          "comments": 119,
          "dummy": "other",
          "key": "happy-leaves",
          "link": "https://nouveaulabelcontest.com/happy-leaves/",
          "title": "Happy Leaves"
         },
         {
          "artist": "Jeffrey Thornton Fitzgerald",
          "comments": 2,
          "dummy": "other",
          "key": "options-exchanged",
          "link": "https://nouveaulabelcontest.com/options-exchanged/",
          "title": "Opinions Exchanged"
         },
         {
          "artist": "William A Timm",
          "comments": 6,
          "dummy": "other",
          "key": "roots-of-wine",
          "link": "https://nouveaulabelcontest.com/roots-of-wine/",
          "title": "Roots Of Wine"
         },
         {
          "artist": "Kate Marion Lappierre",
          "comments": 2,
          "dummy": "other",
          "key": "time-to-celebrate",
          "link": "https://nouveaulabelcontest.com/time-to-celebrate/",
          "title": "Time To Celebrate"
         },
         {
          "artist": "Bradley Daruzka",
          "comments": 15,
          "dummy": "other",
          "key": "wine-tour-2pm",
          "link": "https://nouveaulabelcontest.com/wine-tour-2pm/",
          "title": "Wine Tour "
         },
         {
          "artist": "Ruby Lindner",
          "comments": 1,
          "dummy": "other",
          "key": "color-me-grapeful",
          "link": "https://nouveaulabelcontest.com/color-me-grapeful/",
          "title": "Color Me Grapeful"
         },
         {
          "artist": "Reuf Kapetanovic",
          "comments": 11,
          "dummy": "deep-green",
          "key": "deep-green",
          "link": "https://nouveaulabelcontest.com/deep-green/",
          "title": "Deep Green"
         },
         {
          "artist": "Ruby Lindner",
          "comments": 3,
          "dummy": "other",
          "key": "lost-in-the-vines",
          "link": "https://nouveaulabelcontest.com/lost-in-the-vines/",
          "title": "Lost In The Vines"
         },
         {
          "artist": "Ruby Lindner",
          "comments": 278,
          "dummy": "other",
          "key": "red-red-wine-stay-close-to-me",
          "link": "https://nouveaulabelcontest.com/red-red-wine-stay-close-to-me/",
          "title": "Red Red Wine"
         },
         {
          "artist": "Jon Parlangeli",
          "comments": 1,
          "dummy": "other",
          "key": "regeneration-3",
          "link": "https://nouveaulabelcontest.com/regeneration-3/",
          "title": "Regeneration "
         },
         {
          "artist": "Jon Parlangeli",
          "comments": 1,
          "dummy": "other",
          "key": "regeneration",
          "link": "https://nouveaulabelcontest.com/regeneration/",
          "title": "Regeneration "
         },
         {
          "artist": "Shelley Davis",
          "comments": 7,
          "dummy": "other",
          "key": "celebration-1",
          "link": "https://nouveaulabelcontest.com/celebration-1/",
          "title": "Celebration "
         },
         {
          "artist": "Shelley Davis",
          "comments": 6,
          "dummy": "other",
          "key": "celebration-2-2",
          "link": "https://nouveaulabelcontest.com/celebration-2-2/",
          "title": "Celebration "
         },
         {
          "artist": "Shelley Davis",
          "comments": 1,
          "dummy": "other",
          "key": "celebration-3",
          "link": "https://nouveaulabelcontest.com/celebration-3/",
          "title": "Celebration "
         },
         {
          "artist": "Shelley Davis",
          "comments": 3,
          "dummy": "other",
          "key": "celebration-5",
          "link": "https://nouveaulabelcontest.com/celebration-5/",
          "title": "Celebration "
         },
         {
          "artist": "Steven Lawlor",
          "comments": 14,
          "dummy": "other",
          "key": "lascaux-transgenre",
          "link": "https://nouveaulabelcontest.com/lascaux-transgenre/",
          "title": "Lascaux Transgenre"
         },
         {
          "artist": "not found",
          "comments": 3,
          "dummy": "other",
          "key": "lush-falls",
          "link": "https://nouveaulabelcontest.com/lush-falls/",
          "title": "Lush Falls"
         },
         {
          "artist": "Susan E",
          "comments": 1,
          "dummy": "other",
          "key": "sweet-spot",
          "link": "https://nouveaulabelcontest.com/sweet-spot/",
          "title": "Sweet Spot"
         },
         {
          "artist": "Susan E Hanna",
          "comments": 1,
          "dummy": "other",
          "key": "wild-aster",
          "link": "https://nouveaulabelcontest.com/wild-aster/",
          "title": "Wild Aster"
         },
         {
          "artist": "Alicia Gitlitz",
          "comments": 178,
          "dummy": "other",
          "key": "ecstasy",
          "link": "https://nouveaulabelcontest.com/ecstasy/",
          "title": "Ecstasy"
         },
         {
          "artist": "Sue Goldberg",
          "comments": 20,
          "dummy": "other",
          "key": "longing-for-spring",
          "link": "https://nouveaulabelcontest.com/longing-for-spring/",
          "title": "Longing For Spring"
         },
         {
          "artist": "Sue Goldberg",
          "comments": 23,
          "dummy": "other",
          "key": "pop-that-cork",
          "link": "https://nouveaulabelcontest.com/pop-that-cork/",
          "title": "Pop That Cork"
         },
         {
          "artist": "George A",
          "comments": 1,
          "dummy": "other",
          "key": "something-fruity",
          "link": "https://nouveaulabelcontest.com/something-fruity/",
          "title": "Something Fruity"
         },
         {
          "artist": "Sue Goldberg",
          "comments": 18,
          "dummy": "other",
          "key": "stained-glass",
          "link": "https://nouveaulabelcontest.com/stained-glass/",
          "title": "Stained Glass"
         },
         {
          "artist": "Carlos Lorenzana",
          "comments": 1,
          "dummy": "other",
          "key": "tableau",
          "link": "https://nouveaulabelcontest.com/tableau/",
          "title": "Tableau"
         },
         {
          "artist": "Dar James",
          "comments": 26,
          "dummy": "other",
          "key": "amazing-grace",
          "link": "https://nouveaulabelcontest.com/amazing-grace/",
          "title": "Amazing Grace"
         },
         {
          "artist": "Kelly Burr",
          "comments": 27,
          "dummy": "other",
          "key": "carnival-of-mystery",
          "link": "https://nouveaulabelcontest.com/carnival-of-mystery/",
          "title": "Carnival of Mystery"
         },
         {
          "artist": "Dar James",
          "comments": 11,
          "dummy": "other",
          "key": "everything-is-wonderful",
          "link": "https://nouveaulabelcontest.com/everything-is-wonderful/",
          "title": "Everything Is Wonderful"
         },
         {
          "artist": "Nathan Wofford",
          "comments": 1,
          "dummy": "other",
          "key": "piel-y-pintura-1",
          "link": "https://nouveaulabelcontest.com/piel-y-pintura-1/",
          "title": "Piel y Pintura "
         },
         {
          "artist": "Nathan Wofford",
          "comments": 16,
          "dummy": "other",
          "key": "piel-y-pintura-4",
          "link": "https://nouveaulabelcontest.com/piel-y-pintura-4/",
          "title": "Piel y Pintura "
         },
         {
          "artist": "Dar James",
          "comments": 7,
          "dummy": "other",
          "key": "the-seeds-of-smile",
          "link": "https://nouveaulabelcontest.com/the-seeds-of-smile/",
          "title": "The Seeds of Smile"
         },
         {
          "artist": "Shelly Synar",
          "comments": 1,
          "dummy": "other",
          "key": "acidic-2",
          "link": "https://nouveaulabelcontest.com/acidic-2/",
          "title": "Acidic "
         },
         {
          "artist": "Carlos Buitrago",
          "comments": 12,
          "dummy": "other",
          "key": "field",
          "link": "https://nouveaulabelcontest.com/field/",
          "title": "Field"
         },
         {
          "artist": "Kelly Burr",
          "comments": 7,
          "dummy": "other",
          "key": "greenhole",
          "link": "https://nouveaulabelcontest.com/greenhole/",
          "title": "Greenhole"
         },
         {
          "artist": "Celia Carr",
          "comments": 388,
          "dummy": "other",
          "key": "life-song",
          "link": "https://nouveaulabelcontest.com/life-song/",
          "title": "Life Song"
         },
         {
          "artist": "Kelly Burr",
          "comments": 10,
          "dummy": "other",
          "key": "resin-on-tile",
          "link": "https://nouveaulabelcontest.com/resin-on-tile/",
          "title": "Resin On Tile"
         },
         {
          "artist": "Betty Steeg",
          "comments": 77,
          "dummy": "other",
          "key": "a-beautiful-america",
          "link": "https://nouveaulabelcontest.com/a-beautiful-america/",
          "title": "A Beautiful America"
         },
         {
          "artist": "Rob Cleary",
          "comments": 25,
          "dummy": "other",
          "key": "awaken",
          "link": "https://nouveaulabelcontest.com/awaken/",
          "title": "Awaken"
         },
         {
          "artist": "Janet Fink",
          "comments": 70,
          "dummy": "other",
          "key": "dancing-with-wine",
          "link": "https://nouveaulabelcontest.com/dancing-with-wine/",
          "title": "Dancing With Wine"
         },
         {
          "artist": "Rob Cleary",
          "comments": 27,
          "dummy": "other",
          "key": "drift",
          "link": "https://nouveaulabelcontest.com/drift/",
          "title": "Drift"
         },
         {
          "artist": "M",
          "comments": 7,
          "dummy": "other",
          "key": "georgetown-regatta",
          "link": "https://nouveaulabelcontest.com/georgetown-regatta/",
          "title": "georgetown-regatta"
         },
         {
          "artist": "Rob Cleary",
          "comments": 26,
          "dummy": "other",
          "key": "unity",
          "link": "https://nouveaulabelcontest.com/unity/",
          "title": "Unity"
         },
         {
          "artist": "Laura Goff Parham",
          "comments": 18,
          "dummy": "other",
          "key": "untitled-2",
          "link": "https://nouveaulabelcontest.com/untitled-2/",
          "title": "Untitled"
         },
         {
          "artist": "Britt Moorehead",
          "comments": 1,
          "dummy": "other",
          "key": "bioluminescence",
          "link": "https://nouveaulabelcontest.com/bioluminescence/",
          "title": "Bioluminescence"
         },
         {
          "artist": "Cheryl Henderson",
          "comments": 6,
          "dummy": "other",
          "key": "breaking-through",
          "link": "https://nouveaulabelcontest.com/breaking-through/",
          "title": "Breaking Through"
         },
         {
          "artist": "Britt Moorehead",
          "comments": 1,
          "dummy": "other",
          "key": "gamay-belle",
          "link": "https://nouveaulabelcontest.com/gamay-belle/",
          "title": "Gamay Belle"
         },
         {
          "artist": "not found",
          "comments": 1,
          "dummy": "other",
          "key": "ganglia",
          "link": "https://nouveaulabelcontest.com/ganglia/",
          "title": "ganglia"
         },
         {
          "artist": "Janet Fink",
          "comments": 2,
          "dummy": "other",
          "key": "harvest-relection",
          "link": "https://nouveaulabelcontest.com/harvest-relection/",
          "title": "Harvest Relection"
         },
         {
          "artist": "Kristine Knoll",
          "comments": 52,
          "dummy": "other",
          "key": "hello-clarice",
          "link": "https://nouveaulabelcontest.com/hello-clarice/",
          "title": "Hello Clarice"
         },
         {
          "artist": "Cheryl Henderson",
          "comments": 12,
          "dummy": "other",
          "key": "in-the-pink",
          "link": "https://nouveaulabelcontest.com/in-the-pink/",
          "title": "In the Pink"
         },
         {
          "artist": "Ann DuBois",
          "comments": 41,
          "dummy": "other",
          "key": "colors-flow",
          "link": "https://nouveaulabelcontest.com/colors-flow/",
          "title": "Colors Flow"
         },
         {
          "artist": "Ana Smyth",
          "comments": 200,
          "dummy": "other",
          "key": "harvest-celebration",
          "link": "https://nouveaulabelcontest.com/harvest-celebration/",
          "title": "Harvest Celebration"
         },
         {
          "artist": "Ana Smyth",
          "comments": 1,
          "dummy": "other",
          "key": "red-bloom",
          "link": "https://nouveaulabelcontest.com/red-bloom/",
          "title": "Red Bloom"
         },
         {
          "artist": "Ana Smyth",
          "comments": 3,
          "dummy": "other",
          "key": "walking-the-garden",
          "link": "https://nouveaulabelcontest.com/walking-the-garden/",
          "title": "Walking the Garden"
         },
         {
          "artist": "Musa Jaman",
          "comments": 1,
          "dummy": "other",
          "key": "big-pink",
          "link": "https://nouveaulabelcontest.com/big-pink/",
          "title": "Big Pink"
         },
         {
          "artist": "Musa Jaman",
          "comments": 1,
          "dummy": "other",
          "key": "dalis-dahlia",
          "link": "https://nouveaulabelcontest.com/dalis-dahlia/",
          "title": "Dalis Dahlia"
         },
         {
          "artist": "Rodney ",
          "comments": 1,
          "dummy": "other",
          "key": "geo-abstract-2",
          "link": "https://nouveaulabelcontest.com/geo-abstract-2/",
          "title": "Geo Abstract "
         },
         {
          "artist": "Musa Jaman",
          "comments": 2,
          "dummy": "other",
          "key": "radiance",
          "link": "https://nouveaulabelcontest.com/radiance/",
          "title": "Radiance"
         },
         {
          "artist": "Richard Nickel",
          "comments": 1,
          "dummy": "other",
          "key": "the-treasure",
          "link": "https://nouveaulabelcontest.com/the-treasure/",
          "title": "The Treasure"
         },
         {
          "artist": "LuAnn Nutt",
          "comments": 13,
          "dummy": "other",
          "key": "celebration-2",
          "link": "https://nouveaulabelcontest.com/celebration-2/",
          "title": "Celebration"
         },
         {
          "artist": "LuAnn Nutt",
          "comments": 13,
          "dummy": "other",
          "key": "dancing-vines",
          "link": "https://nouveaulabelcontest.com/dancing-vines/",
          "title": "Dancing Vines"
         },
         {
          "artist": "Christie Neale",
          "comments": 28,
          "dummy": "other",
          "key": "fall",
          "link": "https://nouveaulabelcontest.com/fall/",
          "title": "Fall"
         },
         {
          "artist": "LuAnn Nutt",
          "comments": 9,
          "dummy": "other",
          "key": "glistening-energy",
          "link": "https://nouveaulabelcontest.com/glistening-energy/",
          "title": "Glistening Energy"
         },
         {
          "artist": "LuAnn Nutt",
          "comments": 28,
          "dummy": "other",
          "key": "gods-bounty",
          "link": "https://nouveaulabelcontest.com/gods-bounty/",
          "title": "God"
         },
         {
          "artist": "Christie Neale",
          "comments": 5,
          "dummy": "other",
          "key": "luminous-pool-of-grace",
          "link": "https://nouveaulabelcontest.com/luminous-pool-of-grace/",
          "title": "Luminous Pool of Grace"
         },
         {
          "artist": "Mac Titmus",
          "comments": 1,
          "dummy": "other",
          "key": "patriot-grapes",
          "link": "https://nouveaulabelcontest.com/patriot-grapes/",
          "title": "Patriot Grapes"
         },
         {
          "artist": "Christie Neale",
          "comments": 3,
          "dummy": "other",
          "key": "vibrant-new-life",
          "link": "https://nouveaulabelcontest.com/vibrant-new-life/",
          "title": "Vibrant New Life"
         },
         {
          "artist": "Christie Neale",
          "comments": 5,
          "dummy": "other",
          "key": "altar-of-dream",
          "link": "https://nouveaulabelcontest.com/altar-of-dream/",
          "title": "Altar of Dream"
         },
         {
          "artist": "Kevin Lahvic",
          "comments": 2,
          "dummy": "other",
          "key": "block-party",
          "link": "https://nouveaulabelcontest.com/block-party/",
          "title": "Block Party"
         },
         {
          "artist": "Kevin Lahvic",
          "comments": 30,
          "dummy": "other",
          "key": "bloom",
          "link": "https://nouveaulabelcontest.com/bloom/",
          "title": "Bloom"
         },
         {
          "artist": "Leah Venturello",
          "comments": 16,
          "dummy": "other",
          "key": "emerging",
          "link": "https://nouveaulabelcontest.com/emerging/",
          "title": "Emerging"
         },
         {
          "artist": "Kevin Lahvic",
          "comments": 1,
          "dummy": "other",
          "key": "scatter-joy",
          "link": "https://nouveaulabelcontest.com/scatter-joy/",
          "title": "Scatter Joy"
         },
         {
          "artist": "Leah Venturello",
          "comments": 59,
          "dummy": "other",
          "key": "sunny-day",
          "link": "https://nouveaulabelcontest.com/sunny-day/",
          "title": "Sunny Day"
         },
         {
          "artist": "Marilyn Sholin",
          "comments": 246,
          "dummy": "other",
          "key": "2-red-4-you-and-me",
          "link": "https://nouveaulabelcontest.com/2-red-4-you-and-me/",
          "title": "2-red-4-you-and-me"
         },
         {
          "artist": "Crystal J Murley",
          "comments": 66,
          "dummy": "other",
          "key": "exponential-expansion",
          "link": "https://nouveaulabelcontest.com/exponential-expansion/",
          "title": "Exponential Expansion"
         },
         {
          "artist": "Crystal J Murley",
          "comments": 7,
          "dummy": "other",
          "key": "flower-garden",
          "link": "https://nouveaulabelcontest.com/flower-garden/",
          "title": "Flower Garden"
         },
         {
          "artist": "Richard",
          "comments": 1,
          "dummy": "other",
          "key": "flowers",
          "link": "https://nouveaulabelcontest.com/flowers/",
          "title": "Flowers"
         },
         {
          "artist": "Rick Nickel",
          "comments": 1,
          "dummy": "other",
          "key": "mother-night",
          "link": "https://nouveaulabelcontest.com/mother-night/",
          "title": "Mother Night"
         },
         {
          "artist": "Crystal J Murley",
          "comments": 2,
          "dummy": "other",
          "key": "subjective-grace",
          "link": "https://nouveaulabelcontest.com/subjective-grace/",
          "title": "Subjective Grace"
         },
         {
          "artist": "Crystal J Murley",
          "comments": 5,
          "dummy": "other",
          "key": "the-rhythm-of-joy",
          "link": "https://nouveaulabelcontest.com/the-rhythm-of-joy/",
          "title": "The Rhythm of Joy"
         },
         {
          "artist": "Mary O",
          "comments": 22,
          "dummy": "other",
          "key": "wine-abstraction",
          "link": "https://nouveaulabelcontest.com/wine-abstraction/",
          "title": "Wine Abstraction"
         },
         {
          "artist": "not found",
          "comments": 2,
          "dummy": "other",
          "key": "bountiful-harvest",
          "link": "https://nouveaulabelcontest.com/bountiful-harvest/",
          "title": "bountiful-harvest"
         },
         {
          "artist": "Mary O",
          "comments": 2,
          "dummy": "other",
          "key": "bountiful",
          "link": "https://nouveaulabelcontest.com/bountiful/",
          "title": "Bountiful"
         },
         {
          "artist": "Trish Land",
          "comments": 3,
          "dummy": "other",
          "key": "jardins-familiaux",
          "link": "https://nouveaulabelcontest.com/jardins-familiaux/",
          "title": "Jardins Familiaux"
         },
         {
          "artist": "Melissa",
          "comments": 5,
          "dummy": "other",
          "key": "out-to-sea",
          "link": "https://nouveaulabelcontest.com/out-to-sea/",
          "title": "Out to Sea"
         },
         {
          "artist": "Carlos Buitrago",
          "comments": 2,
          "dummy": "other",
          "key": "sunflowers-in-a-vase",
          "link": "https://nouveaulabelcontest.com/sunflowers-in-a-vase/",
          "title": "Sunflowers In A Vase"
         },
         {
          "artist": "Trish Land",
          "comments": 2,
          "dummy": "other",
          "key": "vintage",
          "link": "https://nouveaulabelcontest.com/vintage/",
          "title": "Vintage"
         },
         {
          "artist": "Jen Hernandez",
          "comments": 1,
          "dummy": "other",
          "key": "flowering-lady-2",
          "link": "https://nouveaulabelcontest.com/flowering-lady-2/",
          "title": "Flowering Lady "
         },
         {
          "artist": "George A Athanasas",
          "comments": 1,
          "dummy": "other",
          "key": "wildlife",
          "link": "https://nouveaulabelcontest.com/wildlife/",
          "title": "Wildlife"
         },
         {
          "artist": "Victoria Nelsen",
          "comments": 1,
          "dummy": "other",
          "key": "satine-rouge",
          "link": "https://nouveaulabelcontest.com/satine-rouge/",
          "title": "Satine Rouge"
         },
         {
          "artist": "Francisco Colom",
          "comments": 3,
          "dummy": "other",
          "key": "secret-garden",
          "link": "https://nouveaulabelcontest.com/secret-garden/",
          "title": "Secret Garden"
         },
         {
          "artist": "Francisco Colom",
          "comments": 43,
          "dummy": "other",
          "key": "village-2",
          "link": "https://nouveaulabelcontest.com/village-2/",
          "title": "Village "
         },
         {
          "artist": "Autumn Splendor",
          "comments": 103,
          "dummy": "other",
          "key": "autumn-splendor",
          "link": "https://nouveaulabelcontest.com/autumn-splendor/",
          "title": "Kathleen Rietz"
         },
         {
          "artist": "Kathleen Rietz",
          "comments": 388,
          "dummy": "other",
          "key": "beautiful-day",
          "link": "https://nouveaulabelcontest.com/beautiful-day/",
          "title": "Beautiful Day"
         },
         {
          "artist": "Kathleen Rietz",
          "comments": 38,
          "dummy": "other",
          "key": "gazing-into-a-dream",
          "link": "https://nouveaulabelcontest.com/gazing-into-a-dream/",
          "title": "Gazing Into A Dream"
         },
         {
          "artist": "Ira Dwight",
          "comments": 2,
          "dummy": "other",
          "key": "my-love-story",
          "link": "https://nouveaulabelcontest.com/my-love-story/",
          "title": "My Love Story"
         },
         {
          "artist": "Kevin Lahvic",
          "comments": 3,
          "dummy": "other",
          "key": "passion-bloom",
          "link": "https://nouveaulabelcontest.com/passion-bloom/",
          "title": "Passion Bloom"
         },
         {
          "artist": "Kathleen Rietz",
          "comments": 28,
          "dummy": "other",
          "key": "sidewalk-chalk",
          "link": "https://nouveaulabelcontest.com/sidewalk-chalk/",
          "title": "Sidewalk Chalk"
         },
         {
          "artist": "Kathleen Rietz",
          "comments": 34,
          "dummy": "other",
          "key": "the-colors-of-summer",
          "link": "https://nouveaulabelcontest.com/the-colors-of-summer/",
          "title": "The Colors of Summer"
         },
         {
          "artist": "Dan Arcoleo",
          "comments": 65,
          "dummy": "other",
          "key": "tranquility",
          "link": "https://nouveaulabelcontest.com/tranquility/",
          "title": "Tranquility"
         },
         {
          "artist": "Kevin Lahvic",
          "comments": 9,
          "dummy": "other",
          "key": "big-melting-pot",
          "link": "https://nouveaulabelcontest.com/big-melting-pot/",
          "title": "Big Melting Pot"
         },
         {
          "artist": "Melissa Furr",
          "comments": 15,
          "dummy": "other",
          "key": "colors-of-the-sea",
          "link": "https://nouveaulabelcontest.com/colors-of-the-sea/",
          "title": "Colors of the Sea"
         },
         {
          "artist": "Adri Luna",
          "comments": 63,
          "dummy": "other",
          "key": "in-the-open",
          "link": "https://nouveaulabelcontest.com/in-the-open/",
          "title": "In the Open"
         },
         {
          "artist": "Adri Luna",
          "comments": 2,
          "dummy": "other",
          "key": "lapping",
          "link": "https://nouveaulabelcontest.com/lapping/",
          "title": "Lapping"
         },
         {
          "artist": "Melissa Furr",
          "comments": 9,
          "dummy": "other",
          "key": "ocean-of-thought",
          "link": "https://nouveaulabelcontest.com/ocean-of-thought/",
          "title": "Ocean Of Thought"
         },
         {
          "artist": "Adri Luna",
          "comments": 1,
          "dummy": "other",
          "key": "shadowed",
          "link": "https://nouveaulabelcontest.com/shadowed/",
          "title": "Shadowed"
         },
         {
          "artist": "Melissa Furr",
          "comments": 7,
          "dummy": "other",
          "key": "skys-of-gray",
          "link": "https://nouveaulabelcontest.com/skys-of-gray/",
          "title": "Sky"
         },
         {
          "artist": "Leah Fairmont Venturello",
          "comments": 18,
          "dummy": "other",
          "key": "acrylic-on-canvas",
          "link": "https://nouveaulabelcontest.com/acrylic-on-canvas/",
          "title": "Calm Before the Storm"
         },
         {
          "artist": "Adri Luna",
          "comments": 1,
          "dummy": "other",
          "key": "ampersand",
          "link": "https://nouveaulabelcontest.com/ampersand/",
          "title": "Ampersand"
         },
         {
          "artist": "Victoria Nelsen",
          "comments": 2,
          "dummy": "other",
          "key": "beaux-tournesols",
          "link": "https://nouveaulabelcontest.com/beaux-tournesols/",
          "title": "Beaux Tournesols"
         },
         {
          "artist": "Adri Luna",
          "comments": 1,
          "dummy": "other",
          "key": "caress",
          "link": "https://nouveaulabelcontest.com/caress/",
          "title": "Caress"
         },
         {
          "artist": "Alicia Gitlitz",
          "comments": 24,
          "dummy": "other",
          "key": "grapevine",
          "link": "https://nouveaulabelcontest.com/grapevine/",
          "title": "Grapevine"
         },
         {
          "artist": "Alicia Gitlitz",
          "comments": 92,
          "dummy": "other",
          "key": "infatuation",
          "link": "https://nouveaulabelcontest.com/infatuation/",
          "title": "Infatuation"
         },
         {
          "artist": "Alicia Gitlitz",
          "comments": 109,
          "dummy": "other",
          "key": "mardis-gras",
          "link": "https://nouveaulabelcontest.com/mardis-gras/",
          "title": "Mardis Gras"
         },
         {
          "artist": "Victoria Nelson",
          "comments": 210,
          "dummy": "other",
          "key": "misty-blends",
          "link": "https://nouveaulabelcontest.com/misty-blends/",
          "title": "Misty Blends"
         },
         {
          "artist": "Maura Greenblum",
          "comments": 22,
          "dummy": "other",
          "key": "floral",
          "link": "https://nouveaulabelcontest.com/floral/",
          "title": "Floral"
         },
         {
          "artist": "Katrina Parker Williams",
          "comments": 1,
          "dummy": "other",
          "key": "fuchsia-grapes",
          "link": "https://nouveaulabelcontest.com/fuchsia-grapes/",
          "title": "Fuchsia Grapes"
         },
         {
          "artist": "Pamela Kenny",
          "comments": 75,
          "dummy": "other",
          "key": "groovy-grapes",
          "link": "https://nouveaulabelcontest.com/groovy-grapes/",
          "title": "Groovy Grapes"
         },
         {
          "artist": "Corinne Bizzle",
          "comments": 71,
          "dummy": "other",
          "key": "lets-celebrate",
          "link": "https://nouveaulabelcontest.com/lets-celebrate/",
          "title": "Let"
         },
         {
          "artist": "Sean P",
          "comments": 5,
          "dummy": "other",
          "key": "third-way",
          "link": "https://nouveaulabelcontest.com/third-way/",
          "title": "Third Way"
         },
         {
          "artist": "Michael A",
          "comments": 2,
          "dummy": "other",
          "key": "wild-horses",
          "link": "https://nouveaulabelcontest.com/wild-horses/",
          "title": "Wild Horses"
         },
         {
          "artist": "not found",
          "comments": 2,
          "dummy": "other",
          "key": "wine-mountain",
          "link": "https://nouveaulabelcontest.com/wine-mountain/",
          "title": "Wine Mountain"
         },
         {
          "artist": "Andrea Monroe",
          "comments": 76,
          "dummy": "other",
          "key": "wine-plant",
          "link": "https://nouveaulabelcontest.com/wine-plant/",
          "title": "Wine Plant"
         },
         {
          "artist": "Michael A",
          "comments": 1,
          "dummy": "other",
          "key": "briny-moon",
          "link": "https://nouveaulabelcontest.com/briny-moon/",
          "title": "Briny Moon"
         }
        ]
       },
       "encoding": {
        "color": {
         "field": "dummy",
         "type": "nominal"
        },
        "href": {
         "field": "link",
         "type": "nominal"
        },
        "tooltip": [
         {
          "field": "artist",
          "type": "nominal"
         },
         {
          "field": "title",
          "type": "nominal"
         },
         {
          "field": "comments",
          "type": "quantitative"
         }
        ],
        "x": {
         "axis": {
          "orient": "top"
         },
         "field": "comments",
         "type": "quantitative"
        },
        "y": {
         "field": "key",
         "sort": [
          "beautiful-day",
          "life-song",
          "city-by-the-bay",
          "red-red-wine-stay-close-to-me",
          "2-red-4-you-and-me",
          "joyous-crush",
          "misty-blends",
          "harvest-celebration",
          "ecstasy",
          "happy-leaves",
          "mardis-gras",
          "london-glass-abstract-2",
          "autumn-splendor",
          "london-glass-abstract-1",
          "unicorn-kisses",
          "infatuation",
          "flying-high",
          "a-beautiful-america",
          "wine-plant",
          "groovy-grapes",
          "lets-celebrate",
          "dancing-with-wine",
          "beaujolais-coucher-du-soleil",
          "field-of-spring",
          "finding-center-in-the-forest",
          "the-truth-hurts",
          "exponential-expansion",
          "tranquility",
          "nouveau",
          "in-the-open",
          "somewhere-in-france",
          "inflorescence",
          "sunset-repast",
          "natures-party",
          "sunny-day",
          "harvest-nouveau",
          "the-white-butterfly-at-the-vineyard",
          "celebration-9",
          "dusk-of-harvest",
          "just-the-way-you-are",
          "hello-clarice",
          "meadow-song",
          "natures-gift",
          "coalescence",
          "testing-the-waters",
          "flight-of-a-peacock",
          "grapes-of-joy",
          "village-2",
          "celebration-8",
          "meadow-dance",
          "dancing-in-the-wind",
          "colors-flow",
          "gazing-into-a-dream",
          "lo-lo-with-the-flow",
          "centrum",
          "rising-strong",
          "abundance",
          "the-colors-of-summer",
          "encounter",
          "camellia-study-in-gouache",
          "show-me-the-way",
          "your-choice",
          "jubilee",
          "bursting-bings",
          "underwater-explosion",
          "bloom",
          "coming-full-circle",
          "celebration-sunlit-harvest",
          "stand-in-your-power",
          "fall",
          "sidewalk-chalk",
          "dance-with-me",
          "gods-bounty",
          "drift",
          "texas-sunrise",
          "carnival-of-mystery",
          "amazing-grace",
          "unity",
          "jubilation",
          "awaken",
          "joyful-dragon",
          "autumn-celebration",
          "connected",
          "hidden-4",
          "grapevine",
          "untitled-3",
          "primeur",
          "pop-that-cork",
          "floral",
          "wine-abstraction",
          "crests-and-valleys",
          "lets-dance",
          "renaissance",
          "longing-for-spring",
          "harvest",
          "fete-2",
          "bliss",
          "spanish-moss",
          "triumph",
          "callie",
          "collision-in-red-and-blue",
          "untitled-2",
          "acrylic-on-canvas",
          "life-is-good-under-a-green-sun",
          "fete",
          "beaujolais-2",
          "stained-glass",
          "morning-glory",
          "trip-the-light-fantastic",
          "emerging",
          "piel-y-pintura-4",
          "summer-dancer",
          "colors-of-the-sea",
          "wine-tour-2pm",
          "vines-vibrancy",
          "the-scents-of-celebration-2",
          "fruit-basket",
          "in-full-bloom",
          "blossom",
          "windy-day",
          "chika-michelle",
          "what-your-mama-gave-you",
          "crimson-bloom",
          "lascaux-transgenre",
          "celebration-7",
          "converge-and-satiate",
          "rainbows-end",
          "juicy-pop",
          "by-any-other-name",
          "saturday-night",
          "fond-memories",
          "celebration-2",
          "garden-wind",
          "elegance",
          "gymnopedie",
          "dancing-vines",
          "the-mood",
          "in-the-pink",
          "field",
          "out-of-the-blue",
          "the-soul-of-a-woman",
          "everything-is-wonderful",
          "deep-green",
          "color-burst",
          "springtime-in-the-city",
          "the-hug",
          "synapse",
          "floating-2",
          "mandala",
          "resin-on-tile",
          "dancing-flavors",
          "aerial-harvest",
          "ocean-of-thought",
          "that-time",
          "glistening-energy",
          "big-melting-pot",
          "irises-in-the-morning",
          "summertime-2",
          "love-me",
          "floral-joy",
          "le-galaxy",
          "tranquility-2",
          "native-electric",
          "i-feel-pretty",
          "wildfire",
          "the-seeds-of-smile",
          "skys-of-gray",
          "woman-2",
          "greenhole",
          "affair-of-the-heart",
          "flower-garden",
          "to-family",
          "celebration-1",
          "heavy-heart",
          "georgetown-regatta",
          "magnetic-energy",
          "too-young",
          "pink-rules",
          "flight",
          "road-to-beaujolais",
          "frankie",
          "cat",
          "bountiful-harvest-3",
          "celebration-2-2",
          "dancing-in-the-sunshine",
          "boxing-day",
          "breaking-through",
          "ignite",
          "splatter",
          "roots-of-wine",
          "finding-kore",
          "out-to-sea",
          "garden-party",
          "third-way",
          "autumn-leaves",
          "calling-for-divine-intervention",
          "the-rhythm-of-joy",
          "splendor",
          "divine-intervention",
          "luminous-pool-of-grace",
          "altar-of-dream",
          "confluence",
          "la-deesse-du-vin",
          "sparkle",
          "harvest-sun",
          "muisca-sun",
          "blush",
          "november-rain",
          "vibrant-grape-harvest",
          "wine-tasting",
          "new-harvest",
          "confluence-2",
          "rainbow-bliss",
          "lush-falls",
          "jardins-familiaux",
          "walking-the-garden",
          "passion-bloom",
          "celebration-5",
          "vibrant-new-life",
          "lost-in-the-vines",
          "secret-garden",
          "first-harvest",
          "red-rose",
          "plenty",
          "through-the-grapevine",
          "violet-river",
          "blooming",
          "dark-side-of-the-vine-1",
          "becoming-ethereal",
          "floating-1",
          "oh-for-the-love-of-spring",
          "the-awakening",
          "salute-2",
          "resuello-del-verano",
          "fall-cheer",
          "titanias-promenade",
          "magnolia-grandifolia",
          "subjective-grace",
          "squeeze-me",
          "my-love-story",
          "harvest-relection",
          "formidable",
          "oui",
          "vintage",
          "entwined-no-1",
          "sunflowers-in-a-vase",
          "bountiful-harvest",
          "radiance",
          "block-party",
          "cellular-mandala",
          "bountiful",
          "drops",
          "time-to-celebrate",
          "glow",
          "options-exchanged",
          "harvest-celebration-2",
          "wisteria-lane",
          "blooming-garden",
          "wine-mountain",
          "running-spirit-of-the-earth",
          "amber",
          "aster",
          "cosmic-protection-goddesses",
          "wild-horses",
          "a-garden",
          "beaux-tournesols",
          "lapping",
          "the-kiss-of-soul",
          "ode-to",
          "from-the-good-earth",
          "caress",
          "painted-mosaic",
          "fuchsia-grapes",
          "beaujolais-nouveau",
          "celebrating-the-harvest-moon",
          "blue-collar-rose",
          "mother-night",
          "blue-spring",
          "shadowed",
          "ampersand",
          "tulipos",
          "goldvines",
          "flowering-lady-2",
          "colors-of-my-soul",
          "wildlife",
          "satine-rouge",
          "summer-dream",
          "in-the-spirit-of-play",
          "shine-on",
          "bright-days",
          "sublime-1",
          "lightness",
          "blossomtime",
          "music-and-flowers",
          "flowers",
          "oysters-wine-friends",
          "you-are-empty",
          "09-22-1946",
          "acidic-2",
          "upper-west-side",
          "piel-y-pintura-1",
          "peacock",
          "tableau",
          "something-fruity",
          "dark-side-of-the-vine-2",
          "orange-dahlia",
          "wild-aster",
          "sweet-spot",
          "flor-de-invierno",
          "blooming-in-drowsy-sunshine",
          "celebration-3",
          "jukebox-hero",
          "earthly-delights",
          "regeneration",
          "regeneration-3",
          "enduring",
          "forest-fairy",
          "color-me-grapeful",
          "signals",
          "mixed-media-painting-on-canvas",
          "hot-tub-happiness",
          "sweetness",
          "big-pink",
          "scatter-joy",
          "night-swimming-no-2",
          "ophelia-at-sunrise",
          "patriot-grapes",
          "enchanted-forest",
          "revival",
          "the-treasure",
          "geo-abstract-2",
          "dalis-dahlia",
          "red-bloom",
          "sensation",
          "the-vase-grandma-brought-from-the-motherland",
          "stormy-sunset-2",
          "wonder-in-the-rainbow",
          "ganglia",
          "gamay-belle",
          "natures-light",
          "bioluminescence",
          "place-to-be",
          "the-valley",
          "briny-moon"
         ],
         "type": "nominal"
        }
       },
       "mark": "bar",
       "title": "comment count by submission"
      },
      "image/png": "[encoded data removed]",
      "text/plain": [
       "<VegaLite 2 object>\n",
       "\n",
       "If you see this message, it means the renderer has not been properly enabled\n",
       "for the frontend that you are using. For more information, see\n",
       "https://altair-viz.github.io/user_guide/troubleshooting.html\n"
      ]
     },
     "metadata": {},
     "output_type": "display_data"
    },
    {
     "name": "stdout",
     "output_type": "stream",
     "text": [
      "exception encountered: Message: 'chromedriver' executable needs to be in PATH. Please see https://sites.google.com/a/chromium.org/chromedriver/home\n",
      "\n"
     ]
    }
   ],
   "source": [
    "ACS.generate_leaderboard_chart()"
   ]
  },
  {
   "cell_type": "code",
   "execution_count": 4,
   "metadata": {},
   "outputs": [
    {
     "data": {
      "text/html": [
       "<div>\n",
       "<style scoped>\n",
       "    .dataframe tbody tr th:only-of-type {\n",
       "        vertical-align: middle;\n",
       "    }\n",
       "\n",
       "    .dataframe tbody tr th {\n",
       "        vertical-align: top;\n",
       "    }\n",
       "\n",
       "    .dataframe thead th {\n",
       "        text-align: right;\n",
       "    }\n",
       "</style>\n",
       "<table border=\"1\" class=\"dataframe\">\n",
       "  <thead>\n",
       "    <tr style=\"text-align: right;\">\n",
       "      <th></th>\n",
       "      <th>artist</th>\n",
       "      <th>comments</th>\n",
       "      <th>key</th>\n",
       "      <th>link</th>\n",
       "      <th>title</th>\n",
       "      <th>dummy</th>\n",
       "    </tr>\n",
       "  </thead>\n",
       "  <tbody>\n",
       "    <tr>\n",
       "      <th>0</th>\n",
       "      <td>Valerie Yoder</td>\n",
       "      <td>3</td>\n",
       "      <td>first-harvest</td>\n",
       "      <td>https://nouveaulabelcontest.com/first-harvest/</td>\n",
       "      <td>First Harvest</td>\n",
       "      <td>other</td>\n",
       "    </tr>\n",
       "    <tr>\n",
       "      <th>1</th>\n",
       "      <td>Samantha Lee</td>\n",
       "      <td>13</td>\n",
       "      <td>gymnopedie</td>\n",
       "      <td>https://nouveaulabelcontest.com/gymnopedie/</td>\n",
       "      <td>Gymnopedie</td>\n",
       "      <td>other</td>\n",
       "    </tr>\n",
       "    <tr>\n",
       "      <th>2</th>\n",
       "      <td>Samantha Lee</td>\n",
       "      <td>3</td>\n",
       "      <td>resuello-del-verano</td>\n",
       "      <td>https://nouveaulabelcontest.com/resuello-del-v...</td>\n",
       "      <td>Resuello Del Verano</td>\n",
       "      <td>other</td>\n",
       "    </tr>\n",
       "    <tr>\n",
       "      <th>3</th>\n",
       "      <td>Eve Ozer</td>\n",
       "      <td>0</td>\n",
       "      <td>self-as-plural-2</td>\n",
       "      <td>https://nouveaulabelcontest.com/self-as-plural-2/</td>\n",
       "      <td>Self As Plural</td>\n",
       "      <td>other</td>\n",
       "    </tr>\n",
       "    <tr>\n",
       "      <th>4</th>\n",
       "      <td>Rina Kazavchinski</td>\n",
       "      <td>27</td>\n",
       "      <td>texas-sunrise</td>\n",
       "      <td>https://nouveaulabelcontest.com/texas-sunrise/</td>\n",
       "      <td>Texas Sunrise</td>\n",
       "      <td>other</td>\n",
       "    </tr>\n",
       "  </tbody>\n",
       "</table>\n",
       "</div>"
      ],
      "text/plain": [
       "              artist  comments                  key  \\\n",
       "0      Valerie Yoder         3        first-harvest   \n",
       "1       Samantha Lee        13           gymnopedie   \n",
       "2       Samantha Lee         3  resuello-del-verano   \n",
       "3           Eve Ozer         0     self-as-plural-2   \n",
       "4  Rina Kazavchinski        27        texas-sunrise   \n",
       "\n",
       "                                                link                title  \\\n",
       "0     https://nouveaulabelcontest.com/first-harvest/        First Harvest   \n",
       "1        https://nouveaulabelcontest.com/gymnopedie/           Gymnopedie   \n",
       "2  https://nouveaulabelcontest.com/resuello-del-v...  Resuello Del Verano   \n",
       "3  https://nouveaulabelcontest.com/self-as-plural-2/       Self As Plural   \n",
       "4     https://nouveaulabelcontest.com/texas-sunrise/        Texas Sunrise   \n",
       "\n",
       "   dummy  \n",
       "0  other  \n",
       "1  other  \n",
       "2  other  \n",
       "3  other  \n",
       "4  other  "
      ]
     },
     "execution_count": 4,
     "metadata": {},
     "output_type": "execute_result"
    }
   ],
   "source": [
    "ACS.alt_df.head()"
   ]
  },
  {
   "cell_type": "code",
   "execution_count": null,
   "metadata": {},
   "outputs": [],
   "source": [
    "alt_df =  ACS.alt_df\n",
    "\n",
    "%store alt_df"
   ]
  },
  {
   "cell_type": "code",
   "execution_count": null,
   "metadata": {},
   "outputs": [],
   "source": []
  },
  {
   "cell_type": "code",
   "execution_count": null,
   "metadata": {},
   "outputs": [],
   "source": []
  },
  {
   "cell_type": "code",
   "execution_count": null,
   "metadata": {},
   "outputs": [],
   "source": []
  },
  {
   "cell_type": "code",
   "execution_count": null,
   "metadata": {},
   "outputs": [],
   "source": []
  },
  {
   "cell_type": "code",
   "execution_count": null,
   "metadata": {},
   "outputs": [],
   "source": []
  },
  {
   "cell_type": "code",
   "execution_count": null,
   "metadata": {},
   "outputs": [],
   "source": []
  },
  {
   "cell_type": "code",
   "execution_count": null,
   "metadata": {},
   "outputs": [],
   "source": []
  },
  {
   "cell_type": "code",
   "execution_count": null,
   "metadata": {},
   "outputs": [],
   "source": []
  },
  {
   "cell_type": "code",
   "execution_count": null,
   "metadata": {},
   "outputs": [],
   "source": []
  },
  {
   "cell_type": "code",
   "execution_count": null,
   "metadata": {},
   "outputs": [],
   "source": []
  },
  {
   "cell_type": "code",
   "execution_count": null,
   "metadata": {},
   "outputs": [],
   "source": []
  },
  {
   "cell_type": "code",
   "execution_count": null,
   "metadata": {},
   "outputs": [],
   "source": []
  }
 ],
 "metadata": {
  "kernelspec": {
   "display_name": "Python 3",
   "language": "python",
   "name": "python3"
  },
  "language_info": {
   "codemirror_mode": {
    "name": "ipython",
    "version": 3
   },
   "file_extension": ".py",
   "mimetype": "text/x-python",
   "name": "python",
   "nbconvert_exporter": "python",
   "pygments_lexer": "ipython3",
   "version": "3.6.5"
  }
 },
 "nbformat": 4,
 "nbformat_minor": 2
}
